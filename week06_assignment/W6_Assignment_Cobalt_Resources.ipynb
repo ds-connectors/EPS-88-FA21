{
 "cells": [
  {
   "cell_type": "markdown",
   "metadata": {},
   "source": [
    "# Where is the cobalt?\n",
    "\n",
    "\n",
    "To electrify more of the electric grid and transportation, more metals are being mined. Batteries are driving a particular demand for cobalt as lithium-ion batteries utilize a chemical reaction between lithium and cobalt oxide. There are major problems with the current cobolt supply particularly with there being small-scale mines that are unregulated with regard to safety, child labor and environmental impact. \n",
    "\n",
    "There is a start-up in Berkeley (with significant venture capital funding) called Kobold that is focused on using basic ore-deposit science, big data, and scientific computing to discover and develop deposits related to battery materials. https://www.koboldmetals.com\n",
    "\n",
    "Watch this video to learn more:"
   ]
  },
  {
   "cell_type": "code",
   "execution_count": null,
   "metadata": {},
   "outputs": [],
   "source": [
    "from IPython.display import YouTubeVideo\n",
    "# Inside the murky business of cobalt mining in DR Congo\n",
    "YouTubeVideo('ll7aUgeK3-o', width=\"1000\", height=\"500\")"
   ]
  },
  {
   "cell_type": "markdown",
   "metadata": {},
   "source": [
    "## Your task in this assignment is to track down what types of igneous rocks have the most cobalt (Co) by completing the following assessments:\n",
    "\n",
    "1) Compare the distributions of cobalt in the COMPOSITION categories of 'FELSIC', 'INTERMEDIATE', 'MAFIC', 'ULTRAMAFIC' using both probability density estimates and box-plots. For the box plot, I recommend using `sns.boxenplot` and setting the ylim so it is zoomed in on the boxes. **Answer this question, if you were going to target one of these compositions for mineral exploration, which one would you target?**\n",
    "\n",
    "2) The lowest grade of ore that is mined for cobalt is 0.01%. **How many data points have concentrations of cobalt that might be this high (recall that the data are in ppm)?**\n",
    "\n",
    "\n",
    "3) Let's say you **needed** to make a choice whether to explore in mafic intrusive (plutonic) rocks or mafic volcanics rocks. The coarser-grained plutonic rocks that crystallized underground have the 'PLUTONIC' label in the 'TYPE' column while the volcanic rocks have the 'VOLCANIC' label. **Use the A/B test framework and determine whether both the mean and the median are statistically distinct from that which would result from random permutations. Would you explore plutonic or volcanic mafic rocks?**"
   ]
  },
  {
   "cell_type": "code",
   "execution_count": null,
   "metadata": {},
   "outputs": [],
   "source": [
    "# Import more libraries as needed\n",
    "import pandas as pd\n",
    "import numpy as np\n",
    "import matplotlib.pyplot as plt\n",
    "import seaborn as sns"
   ]
  },
  {
   "cell_type": "code",
   "execution_count": null,
   "metadata": {},
   "outputs": [],
   "source": [
    "#import all the data\n",
    "igneous_data = pd.read_csv('./data/ign.csv',sep='\\t')\n",
    "#drop data points that don't have Co (ppm) values\n",
    "igneous_data_Co = igneous_data.dropna(subset=['CO'])"
   ]
  },
  {
   "cell_type": "code",
   "execution_count": null,
   "metadata": {},
   "outputs": [],
   "source": []
  },
  {
   "cell_type": "code",
   "execution_count": null,
   "metadata": {},
   "outputs": [],
   "source": []
  },
  {
   "cell_type": "code",
   "execution_count": null,
   "metadata": {},
   "outputs": [],
   "source": []
  },
  {
   "cell_type": "code",
   "execution_count": null,
   "metadata": {},
   "outputs": [],
   "source": []
  },
  {
   "cell_type": "code",
   "execution_count": null,
   "metadata": {},
   "outputs": [],
   "source": []
  },
  {
   "cell_type": "code",
   "execution_count": null,
   "metadata": {},
   "outputs": [],
   "source": []
  },
  {
   "cell_type": "code",
   "execution_count": null,
   "metadata": {},
   "outputs": [],
   "source": []
  },
  {
   "cell_type": "code",
   "execution_count": null,
   "metadata": {},
   "outputs": [],
   "source": []
  },
  {
   "cell_type": "code",
   "execution_count": null,
   "metadata": {},
   "outputs": [],
   "source": []
  },
  {
   "cell_type": "code",
   "execution_count": null,
   "metadata": {},
   "outputs": [],
   "source": []
  },
  {
   "cell_type": "markdown",
   "metadata": {},
   "source": []
  },
  {
   "cell_type": "markdown",
   "metadata": {},
   "source": [
    "**Describe the results of your test in a paragraph that demonstrates that you understand what the test is and what the results (including calculated p-values) mean.** It will be helpful to read this Inferential Thinking chapter: https://www.inferentialthinking.com/chapters/12/Comparing_Two_Samples.html\n",
    "\n",
    "More info on cobalt can be found here for the curious:\n",
    "\n",
    "https://pubs.usgs.gov/of/2017/1155/ofr20171155.pdf"
   ]
  },
  {
   "cell_type": "markdown",
   "metadata": {},
   "source": [
    "### Turn in the Notebook\n",
    "\n",
    "**Export as pdf and upload to bCourses.**"
   ]
  },
  {
   "cell_type": "code",
   "execution_count": null,
   "metadata": {},
   "outputs": [],
   "source": []
  }
 ],
 "metadata": {
  "kernelspec": {
   "display_name": "Python 3",
   "language": "python",
   "name": "python3"
  },
  "language_info": {
   "codemirror_mode": {
    "name": "ipython",
    "version": 3
   },
   "file_extension": ".py",
   "mimetype": "text/x-python",
   "name": "python",
   "nbconvert_exporter": "python",
   "pygments_lexer": "ipython3",
   "version": "3.8.5"
  }
 },
 "nbformat": 4,
 "nbformat_minor": 4
}
