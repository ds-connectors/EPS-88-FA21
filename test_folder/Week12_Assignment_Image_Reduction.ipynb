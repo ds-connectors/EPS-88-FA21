{
 "cells": [
  {
   "cell_type": "markdown",
   "metadata": {},
   "source": [
    "# Week 12: Telescope Image Reduction Assignment (25 pts)\n",
    "We will be reducing images of Neptune with a similar, but slightly different technique to the one we used to reduce Uranus images in class.\n",
    "\n",
    "For images of Neptune, we use a procedure called *stacking*, where three snapshots of Neptune are taken in different parts of the telescope's field of view, then stacked on top of each other to amplify signal and remove atmospheric and detector artifacts."
   ]
  },
  {
   "cell_type": "code",
   "execution_count": null,
   "metadata": {},
   "outputs": [],
   "source": [
    "from astropy.io import fits\n",
    "import matplotlib.pyplot as plt\n",
    "import numpy as np\n",
    "from scipy.signal import medfilt\n",
    "from scipy.interpolate import RectBivariateSpline\n",
    "import astroscrappy\n",
    "import image_registration"
   ]
  },
  {
   "cell_type": "markdown",
   "metadata": {},
   "source": [
    "# Part 1. Open relevant images and make the sky image (5 pts)"
   ]
  },
  {
   "cell_type": "code",
   "execution_count": null,
   "metadata": {},
   "outputs": [],
   "source": [
    "filt_name = 'h'\n",
    "target_name = 'Neptune'\n",
    "filepath = './data/'"
   ]
  },
  {
   "cell_type": "code",
   "execution_count": null,
   "metadata": {},
   "outputs": [],
   "source": [
    "neptune_1f = filepath + target_name + '_' + filt_name + '_1.fits'\n",
    "neptune_2f = filepath + target_name + '_' + filt_name + '_2.fits'\n",
    "neptune_3f = filepath + target_name + '_' + filt_name + '_3.fits'\n",
    "flatf = filepath + 'flat_master_' + filt_name + '.fits'"
   ]
  },
  {
   "cell_type": "code",
   "execution_count": null,
   "metadata": {},
   "outputs": [],
   "source": [
    "neptune_1 = fits.open(neptune_1f,ignore_warnings=True,ignore_missing_end=True)\n",
    "neptune_1_data = neptune_1[0].data\n",
    "neptune_2 = fits.open(neptune_2f,ignore_warnings=True,ignore_missing_end=True)\n",
    "neptune_2_data = neptune_2[0].data\n",
    "neptune_3 = fits.open(neptune_3f,ignore_warnings=True,ignore_missing_end=True)\n",
    "neptune_3_data = neptune_3[0].data"
   ]
  },
  {
   "cell_type": "markdown",
   "metadata": {},
   "source": [
    "Let's plot up the Neptune images to see how they look:"
   ]
  },
  {
   "cell_type": "code",
   "execution_count": null,
   "metadata": {},
   "outputs": [],
   "source": [
    "plt.figure(figsize=(15,10))\n",
    "plt.subplot(131)\n",
    "plt.imshow(neptune_1_data,origin='lower left',cmap='gnuplot')\n",
    "plt.title('First Neptune Image')\n",
    "plt.colorbar(fraction=0.046, pad=0.04)\n",
    "plt.subplot(132)\n",
    "plt.imshow(neptune_2_data,origin='lower left',cmap='gnuplot')\n",
    "plt.title('Second Neptune Image')\n",
    "plt.colorbar(fraction=0.046, pad=0.04)\n",
    "plt.subplot(133)\n",
    "plt.imshow(neptune_3_data,origin='lower left',cmap='gnuplot')\n",
    "plt.title('Third Neptune Image')\n",
    "cbar = plt.colorbar(fraction=0.046, pad=0.04)\n",
    "cbar.set_label('I/F')"
   ]
  },
  {
   "cell_type": "markdown",
   "metadata": {},
   "source": [
    "These images are taken in 3 Frame Dither Pattern, where Neptune is placed in 3 different parts of the telescope's field of view in order to correct for detector and atmospheric effects. In this method, the \"sky\" image is created by finding the median value at each pixel over all three images.\n",
    "\n",
    "To start we'll make an array called ```frames```, which will store the image data for all three Neptune images."
   ]
  },
  {
   "cell_type": "code",
   "execution_count": null,
   "metadata": {},
   "outputs": [],
   "source": [
    "frames = np.asarray([neptune_1_data,neptune_2_data,neptune_3_data])\n",
    "frames.shape"
   ]
  },
  {
   "cell_type": "markdown",
   "metadata": {},
   "source": [
    "<font color=goldenrod>**_Code for you to write_**</font>\n",
    "\n",
    "Write a function called ```make_sky()``` which takes the ```frames``` array and returns a ```sky``` image. The sky image is an image comprised of the *median* value of each pixel across the three Neptune images. You can use the ```np.median()``` function to do this (make sure to specify ```axis=0``` so that it knows to calculate the median across the 3 images). Use this function to generate an image called ```sky_h```, which we'll use for sky subtraction (2.5 pts):"
   ]
  },
  {
   "cell_type": "code",
   "execution_count": null,
   "metadata": {},
   "outputs": [],
   "source": [
    "def make_sky(frames):\n",
    "    ..."
   ]
  },
  {
   "cell_type": "code",
   "execution_count": null,
   "metadata": {},
   "outputs": [],
   "source": [
    "sky_h = ..."
   ]
  },
  {
   "cell_type": "code",
   "execution_count": null,
   "metadata": {},
   "outputs": [],
   "source": [
    "plt.figure(figsize=(8,8))\n",
    "plt.imshow(sky_h,origin='lower left',cmap='gnuplot')\n",
    "plt.title('Sky Image')\n",
    "cbar = plt.colorbar(fraction=0.046, pad=0.04)\n",
    "cbar.set_label('I/F')"
   ]
  },
  {
   "cell_type": "markdown",
   "metadata": {},
   "source": [
    "Because the sky image is comprised of the median pixel value at each location, bad pixels across all three images will be accounted for, while true signal (such as brightness from Neptune) will not.\n",
    "\n",
    "<font color=goldenrod>**_Code for you to write_**</font>\n",
    "\n",
    "Write a function called ```subtract_sky()``` which takes your ```frames``` array and the ```sky``` image and subtracts the sky image from each frame. This function should return an array which is the same shape as your ```frames``` array. This function be similar to the subtract_sky function from the in-class assignment, but you'll need to use a for loop to iterate through all 3 images and subtract the sky from each."
   ]
  },
  {
   "cell_type": "code",
   "execution_count": null,
   "metadata": {},
   "outputs": [],
   "source": [
    "def subtract_sky(frames,sky):\n",
    "    ..."
   ]
  },
  {
   "cell_type": "markdown",
   "metadata": {},
   "source": [
    "Use the ```subtract_sky()``` function to subtract the sky from all 3 images. "
   ]
  },
  {
   "cell_type": "code",
   "execution_count": null,
   "metadata": {},
   "outputs": [],
   "source": [
    "frames_skysub = ...\n",
    "frames_skysub.shape"
   ]
  },
  {
   "cell_type": "code",
   "execution_count": null,
   "metadata": {},
   "outputs": [],
   "source": [
    "plt.figure(figsize=(15,10))\n",
    "plt.subplot(131)\n",
    "plt.imshow(frames_skysub[0],origin='lower left',cmap='gnuplot')\n",
    "plt.title('First Neptune Image')\n",
    "plt.colorbar(fraction=0.046, pad=0.04)\n",
    "plt.subplot(132)\n",
    "plt.imshow(frames_skysub[1],origin='lower left',cmap='gnuplot')\n",
    "plt.title('Second Neptune Image')\n",
    "plt.colorbar(fraction=0.046, pad=0.04)\n",
    "plt.subplot(133)\n",
    "plt.imshow(frames_skysub[2],origin='lower left',cmap='gnuplot')\n",
    "plt.title('Third Neptune Image')\n",
    "cbar = plt.colorbar(fraction=0.046, pad=0.04)\n",
    "cbar.set_label('I/F')"
   ]
  },
  {
   "cell_type": "markdown",
   "metadata": {},
   "source": [
    "# Part 2. Flat-fielding (2.5 pts)\n",
    "We will use the same flat-field images we used in class, and use it to scale each frame in our frames_skysub array."
   ]
  },
  {
   "cell_type": "code",
   "execution_count": null,
   "metadata": {},
   "outputs": [],
   "source": [
    "flat_fits = fits.open(flatf,ignore_warnings=True,ignore_missing_end=True)\n",
    "flat = flat_fits[0].data\n",
    "plt.figure(figsize=(8,8))\n",
    "plt.imshow(flat,origin='lower left',cmap='gnuplot')\n",
    "plt.colorbar(fraction=0.046, pad=0.04)\n",
    "plt.title('Flat-field Image')"
   ]
  },
  {
   "cell_type": "markdown",
   "metadata": {},
   "source": [
    "<font color=goldenrod>**_Code for you to write_**</font>\n",
    "\n",
    "Write a function called ```apply_flat``` which scales each frame in the ```frames_skysub``` array by the ```flat``` image and returns an array that is the same shape as the frames_skysub array. Again, this will be similar to the function we wrote in the in-class assignment, but this time you need to divide each frame in the array by the flat image."
   ]
  },
  {
   "cell_type": "code",
   "execution_count": null,
   "metadata": {},
   "outputs": [],
   "source": [
    "def apply_flat(frames,flat):\n",
    "    ..."
   ]
  },
  {
   "cell_type": "markdown",
   "metadata": {},
   "source": [
    "Use the ```apply_flat()``` function to apply the flat-field image to each of the frames in the frames_skysub array."
   ]
  },
  {
   "cell_type": "code",
   "execution_count": null,
   "metadata": {},
   "outputs": [],
   "source": [
    "frames_flat = ..."
   ]
  },
  {
   "cell_type": "code",
   "execution_count": null,
   "metadata": {},
   "outputs": [],
   "source": [
    "plt.figure(figsize=(15,10))\n",
    "plt.subplot(131)\n",
    "plt.imshow(frames_flat[0],origin='lower left',cmap='gnuplot')\n",
    "plt.title('First Neptune Image')\n",
    "plt.colorbar(fraction=0.046, pad=0.04)\n",
    "plt.subplot(132)\n",
    "plt.imshow(frames_flat[1],origin='lower left',cmap='gnuplot')\n",
    "plt.title('Second Neptune Image')\n",
    "plt.colorbar(fraction=0.046, pad=0.04)\n",
    "plt.subplot(133)\n",
    "plt.imshow(frames_flat[2],origin='lower left',cmap='gnuplot')\n",
    "plt.title('Third Neptune Image')\n",
    "cbar = plt.colorbar(fraction=0.046, pad=0.04)\n",
    "cbar.set_label('I/F')"
   ]
  },
  {
   "cell_type": "markdown",
   "metadata": {},
   "source": [
    "Reminder that these images will look much worse than before because we have exaggerated the bad pixels, so don't panic!"
   ]
  },
  {
   "cell_type": "markdown",
   "metadata": {},
   "source": [
    "# Part 3: Removing Bad Pixels (2.5 pts)\n",
    "Assuming you made a bad pixel map during the in-class assignment (and that you are in the same directory as your in-class assignment), this should be as simple as opening the 'badpx_map_h.fits' file:"
   ]
  },
  {
   "cell_type": "code",
   "execution_count": null,
   "metadata": {},
   "outputs": [],
   "source": [
    "badpx_fits = fits.open(filepath+'badpx_' + filt_name + '.fits',ignore_missing_end=True)\n",
    "badpx_map = badpx_fits[0].data"
   ]
  },
  {
   "cell_type": "markdown",
   "metadata": {},
   "source": [
    "<font color=goldenrod>**_Code for you to write_**</font>\n",
    "\n",
    "Write a function called ```remove_bad_pixels()```, which removes bad pixels from each frame using a nearest neighbor smoothing technique. This will be very similar to the equivalent function from the in-class assignment (with modifications to account for multiple frames):"
   ]
  },
  {
   "cell_type": "code",
   "execution_count": null,
   "metadata": {},
   "outputs": [],
   "source": [
    "def remove_bad_pixels(frames,badpx_map):\n",
    "    ..."
   ]
  },
  {
   "cell_type": "markdown",
   "metadata": {},
   "source": [
    "Use this function to remove bad pixels from your three Neptune frames."
   ]
  },
  {
   "cell_type": "code",
   "execution_count": null,
   "metadata": {},
   "outputs": [],
   "source": [
    "frames_rm_bp = ..."
   ]
  },
  {
   "cell_type": "code",
   "execution_count": null,
   "metadata": {},
   "outputs": [],
   "source": [
    "plt.figure(figsize=(15,10))\n",
    "plt.subplot(131)\n",
    "plt.imshow(frames_rm_bp[0],origin='lower left',cmap='gnuplot')\n",
    "plt.title('First Neptune Image')\n",
    "plt.colorbar(fraction=0.046, pad=0.04)\n",
    "plt.subplot(132)\n",
    "plt.imshow(frames_rm_bp[1],origin='lower left',cmap='gnuplot')\n",
    "plt.title('Second Neptune Image')\n",
    "plt.colorbar(fraction=0.046, pad=0.04)\n",
    "plt.subplot(133)\n",
    "plt.imshow(frames_rm_bp[2],origin='lower left',cmap='gnuplot')\n",
    "plt.title('Third Neptune Image')\n",
    "cbar = plt.colorbar(fraction=0.046, pad=0.04)\n",
    "cbar.set_label('I/F')"
   ]
  },
  {
   "cell_type": "markdown",
   "metadata": {},
   "source": [
    "# Part 4. Cosmic ray removal (2.5 pts)\n",
    "\n",
    "<font color=goldenrod>**_Code for you to write_**</font>\n",
    "\n",
    "Write a function called ```remove_cosmics()``` which removes cosmic rays using the ```astroscrappy.detect_cosmics()``` function."
   ]
  },
  {
   "cell_type": "code",
   "execution_count": null,
   "metadata": {},
   "outputs": [],
   "source": [
    "def remove_cosmics(frames):\n",
    "    ..."
   ]
  },
  {
   "cell_type": "markdown",
   "metadata": {},
   "source": [
    "Use this function to remove cosmic rays from your three Neptune frames."
   ]
  },
  {
   "cell_type": "code",
   "execution_count": null,
   "metadata": {},
   "outputs": [],
   "source": [
    "frames_rc = ..."
   ]
  },
  {
   "cell_type": "code",
   "execution_count": null,
   "metadata": {},
   "outputs": [],
   "source": [
    "plt.figure(figsize=(15,10))\n",
    "plt.subplot(131)\n",
    "plt.imshow(frames_rc[0],origin='lower left',cmap='gnuplot')\n",
    "plt.title('First Neptune Image')\n",
    "plt.colorbar(fraction=0.046, pad=0.04)\n",
    "plt.subplot(132)\n",
    "plt.imshow(frames_rc[1],origin='lower left',cmap='gnuplot')\n",
    "plt.title('Second Neptune Image')\n",
    "plt.colorbar(fraction=0.046, pad=0.04)\n",
    "plt.subplot(133)\n",
    "plt.imshow(frames_rc[2],origin='lower left',cmap='gnuplot')\n",
    "plt.title('Third Neptune Image')\n",
    "cbar = plt.colorbar(fraction=0.046, pad=0.04)\n",
    "cbar.set_label('I/F')"
   ]
  },
  {
   "cell_type": "markdown",
   "metadata": {},
   "source": [
    "# Part 5. Stack images using image_registration package (5 pts)\n",
    "This is an additional step for reducing images taken with the 3 Frame Dither Pattern. We will use two functions from the ```image_registration``` package: ```chi2_shift``` and ```shiftnd```:"
   ]
  },
  {
   "cell_type": "code",
   "execution_count": null,
   "metadata": {},
   "outputs": [],
   "source": [
    "image_registration.chi2_shift?"
   ]
  },
  {
   "cell_type": "markdown",
   "metadata": {},
   "source": [
    "The ```chi2_shift``` function finds cross-correlation between two images using a *Discrete Fourier Transform upsampling* method and returns ```dx``` and ```dy```, which are the offsets between the two images in x and y. This cross correlation method is described in detail in the following video:"
   ]
  },
  {
   "cell_type": "code",
   "execution_count": 1,
   "metadata": {},
   "outputs": [
    {
     "data": {
      "image/jpeg": "[encoded data removed]",
      "text/html": [
       "\n",
       "        <iframe\n",
       "            width=\"800\"\n",
       "            height=\"500\"\n",
       "            src=\"https://www.youtube.com/embed/0IWLr3e7gG4\"\n",
       "            frameborder=\"0\"\n",
       "            allowfullscreen\n",
       "        ></iframe>\n",
       "        "
      ],
      "text/plain": [
       "<IPython.lib.display.YouTubeVideo at 0x7fa50e293a10>"
      ]
     },
     "execution_count": 1,
     "metadata": {},
     "output_type": "execute_result"
    }
   ],
   "source": [
    "from IPython.display import YouTubeVideo\n",
    "YouTubeVideo('0IWLr3e7gG4', width=800, height=500)"
   ]
  },
  {
   "cell_type": "code",
   "execution_count": null,
   "metadata": {},
   "outputs": [],
   "source": [
    "image_registration.fft_tools.shiftnd?"
   ]
  },
  {
   "cell_type": "markdown",
   "metadata": {},
   "source": [
    "The ```shiftnd``` function takes an image and shifts it according to inputs ```dx``` and ```dy```, filling any empty pixels with a value of 0.\n",
    "\n",
    "<font color=goldenrod>**_Code for you to write_**</font>\n",
    "\n",
    "Using these two functions, write your own function called ```stack()``` which takes your ```frames_rc``` array as an input and stacks each frame on top of the first frame using cross correlation.\n",
    "\n",
    "You will need to use the dx, dy output from ```chi2_shift``` in order to shift each frame using ```shiftnd```. Once you have your three frames shifted to have Neptune at the same location, you can stack them by creating an image comprised of the *median* values at each pixel for each shifted frame (similar to the ```make_sky``` function). Then, crop the image to a 512 X 512 square around Neptune:"
   ]
  },
  {
   "cell_type": "code",
   "execution_count": null,
   "metadata": {},
   "outputs": [],
   "source": [
    "def stack(frames):\n",
    "    ..."
   ]
  },
  {
   "cell_type": "markdown",
   "metadata": {},
   "source": [
    "Use this function to stack the 3 Neptune frames."
   ]
  },
  {
   "cell_type": "code",
   "execution_count": null,
   "metadata": {},
   "outputs": [],
   "source": [
    "neptune_h = ..."
   ]
  },
  {
   "cell_type": "markdown",
   "metadata": {},
   "source": [
    "Plot your image to make sure stacking worked correctly."
   ]
  },
  {
   "cell_type": "code",
   "execution_count": null,
   "metadata": {},
   "outputs": [],
   "source": [
    "plt.figure(figsize=(8,8))\n",
    "plt.imshow(neptune_h,origin='lower left',cmap='gnuplot')\n",
    "plt.colorbar(fraction=0.046, pad=0.04)\n",
    "plt.title('Neptune H Final Image')"
   ]
  },
  {
   "cell_type": "markdown",
   "metadata": {},
   "source": [
    "Save your final Neptune H image as a fits file."
   ]
  },
  {
   "cell_type": "code",
   "execution_count": null,
   "metadata": {},
   "outputs": [],
   "source": [
    "fits.writeto(filepath+'/neptune_'+filt_name+'_final.fits',data=neptune_h, overwrite=True)"
   ]
  },
  {
   "cell_type": "markdown",
   "metadata": {},
   "source": [
    "# Reduce the Neptune Kp Image (2.5 pts)\n",
    "This should be relatively simple since you have already written the functions for each step."
   ]
  },
  {
   "cell_type": "code",
   "execution_count": null,
   "metadata": {},
   "outputs": [],
   "source": [
    "filt_name = 'kp'\n",
    "target_name = 'Neptune'\n",
    "\n",
    "neptune_1f = filepath + target_name + '_' + filt_name + '_1.fits'\n",
    "neptune_2f = filepath + target_name + '_' + filt_name + '_2.fits'\n",
    "neptune_3f = filepath + target_name + '_' + filt_name + '_3.fits'\n",
    "flatf = filepath + 'flat_master_' + filt_name + '.fits'\n",
    "\n",
    "neptune_1 = fits.open(neptune_1f,ignore_warnings=True,ignore_missing_end=True)\n",
    "neptune_1_data = neptune_1[0].data\n",
    "neptune_2 = fits.open(neptune_2f,ignore_warnings=True,ignore_missing_end=True)\n",
    "neptune_2_data = neptune_2[0].data\n",
    "neptune_3 = fits.open(neptune_3f,ignore_warnings=True,ignore_missing_end=True)\n",
    "neptune_3_data = neptune_3[0].data\n",
    "\n",
    "flat_fits = fits.open(flatf,ignore_warnings=True,ignore_missing_end=True)\n",
    "flat = flat_fits[0].data\n",
    "\n",
    "badpx_fits = fits.open(filepath+'badpx_' + filt_name + '.fits',ignore_missing_end=True)\n",
    "badpx_map = badpx_fits[0].data\n",
    "\n",
    "frames = np.asarray([neptune_1_data,neptune_2_data,neptune_3_data])"
   ]
  },
  {
   "cell_type": "markdown",
   "metadata": {},
   "source": [
    "Use the functions you wrote to reduce the previous Neptune image to reduce the Kp image:"
   ]
  },
  {
   "cell_type": "code",
   "execution_count": null,
   "metadata": {},
   "outputs": [],
   "source": [
    "sky_kp = ...\n",
    "kp_skysub = ...\n",
    "kp_flat = ...\n",
    "kp_rm_bp = ...\n",
    "kp_rc = ...\n",
    "neptune_kp = ..."
   ]
  },
  {
   "cell_type": "code",
   "execution_count": null,
   "metadata": {},
   "outputs": [],
   "source": [
    "fits.writeto(filepath+'/neptune_'+filt_name+'_final.fits',data=neptune_kp, overwrite=True)"
   ]
  },
  {
   "cell_type": "markdown",
   "metadata": {},
   "source": [
    "Plot both Neptune images to make sure they look OK."
   ]
  },
  {
   "cell_type": "code",
   "execution_count": null,
   "metadata": {},
   "outputs": [],
   "source": [
    "plt.figure(figsize=(15,10))\n",
    "plt.subplot(121)\n",
    "plt.imshow(neptune_kp,origin='lower left',cmap='gnuplot')\n",
    "plt.title('Final Kp Image')\n",
    "plt.colorbar(fraction=0.046, pad=0.04)\n",
    "plt.subplot(122)\n",
    "plt.imshow(neptune_h,origin='lower left',cmap='gnuplot')\n",
    "plt.title('Final H Image')\n",
    "cbar = plt.colorbar(fraction=0.046, pad=0.04)\n",
    "cbar.set_label('I/F')"
   ]
  },
  {
   "cell_type": "markdown",
   "metadata": {},
   "source": [
    "# Find the pressure at two different clouds on Neptune (5 pts)\n",
    "Using the cloud pressure equation we used in the in-class assignment (and the graph below), find the pressure of **two** cloud features on Neptune. Pressure is in bars.\n",
    "\n",
    "<img src=\"data/neptune_pressure_graph.png\" width = 400 align = 'left'>"
   ]
  },
  {
   "cell_type": "code",
   "execution_count": null,
   "metadata": {},
   "outputs": [],
   "source": []
  }
 ],
 "metadata": {
  "kernelspec": {
   "display_name": "Python 3",
   "language": "python",
   "name": "python3"
  },
  "language_info": {
   "codemirror_mode": {
    "name": "ipython",
    "version": 3
   },
   "file_extension": ".py",
   "mimetype": "text/x-python",
   "name": "python",
   "nbconvert_exporter": "python",
   "pygments_lexer": "ipython3",
   "version": "3.7.6"
  }
 },
 "nbformat": 4,
 "nbformat_minor": 2
}
