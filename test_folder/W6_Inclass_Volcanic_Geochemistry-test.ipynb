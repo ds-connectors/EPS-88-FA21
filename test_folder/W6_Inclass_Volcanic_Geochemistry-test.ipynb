{
 "cells": [
  {
   "cell_type": "markdown",
   "metadata": {},
   "source": [
    "# A/B testing Igneous Geochemistry Data\n",
    "\n",
    "### Import scientific python libraries\n",
    "\n",
    "Including the seaborn library that we will be using for the first time today."
   ]
  },
  {
   "cell_type": "code",
   "execution_count": 1,
   "metadata": {},
   "outputs": [],
   "source": [
    "import pandas as pd\n",
    "pd.set_option('display.max_columns', None)\n",
    "import numpy as np\n",
    "import matplotlib.pyplot as plt\n",
    "import seaborn as sns"
   ]
  },
  {
   "cell_type": "markdown",
   "metadata": {},
   "source": [
    "### Visualizing distributions of data and comparing populations\n",
    "\n",
    "Today we are going to move to dealing with a different type of data -- igneous geochemistry data. Igneous rocks are those that crystallize from cooling magma. Different magmas have different compositions associated with their origin. During class today, we will focuse on data from lava flows (these are called volcanics rocks).\n",
    "\n",
    "There is a big database of geochemical data from rocks called Earthchem: https://www.earthchem.org\n",
    "\n",
    "### Import a dataframe of igneous geochemistry data\n",
    "\n",
    "Let's deal with a subset of data from Earthchem that contains geochemical data from igneous rocks. In the data folder in a file calles `ign.csv` although it is actually tab-separated. It comes from here: https://github.com/brenhinkeller/StatisticalGeochemistry"
   ]
  },
  {
   "cell_type": "code",
   "execution_count": 2,
   "metadata": {},
   "outputs": [
    {
     "name": "stderr",
     "output_type": "stream",
     "text": [
      "/Users/ddreger/opt/anaconda3/lib/python3.8/site-packages/IPython/core/interactiveshell.py:3145: DtypeWarning: Columns (4) have mixed types.Specify dtype option on import or set low_memory=False.\n",
      "  has_raised = await self.run_ast_nodes(code_ast.body, cell_name,\n"
     ]
    }
   ],
   "source": [
    "igneous_data = pd.read_csv('./data/ign.csv',sep='\\t')"
   ]
  },
  {
   "cell_type": "markdown",
   "metadata": {},
   "source": [
    "Let's look at what data are available."
   ]
  },
  {
   "cell_type": "code",
   "execution_count": 9,
   "metadata": {},
   "outputs": [
    {
     "data": {
      "text/plain": [
       "Index(['ID', 'SAMPLE ID', 'SOURCE', 'REFERENCE', 'LOCALITY', 'METHODS',\n",
       "       'MATERIAL', 'TYPE', 'COMPOSITION', 'ROCK NAME', 'ID.1', 'LATITUDE',\n",
       "       'LONGITUDE', 'LOC PREC', 'MIN AGE', 'MAX AGE', 'AGE', 'SIO2', 'TIO2',\n",
       "       'AL2O3', 'FE2O3', 'FE2O3T', 'FEO', 'FEOT', 'MGO', 'CAO', 'NA2O', 'K2O',\n",
       "       'P2O5', 'MNO', 'H2O_TOTAL', 'LA', 'CE', 'PR', 'ND', 'SM', 'EU', 'GD',\n",
       "       'TB', 'DY', 'HO', 'ER', 'TM', 'YB', 'LU', 'LI', 'BE', 'B', 'C', 'CO2',\n",
       "       'F', 'CL', 'SC', 'TI', 'V', 'CR', 'CO', 'NI', 'CU', 'ZN', 'GA', 'ZR',\n",
       "       'OS', 'RB', 'BI', 'HG', 'BA', 'Y', 'PB', 'TE', 'NB', 'SR87_SR86', 'TL',\n",
       "       'PT', 'SN', 'CD', 'AS', 'PD', 'SR', 'SE', 'S', 'AU', 'TA', 'MO', 'U',\n",
       "       'CS', 'SB', 'AG', 'W', 'TH', 'RE', 'HF', 'IR'],\n",
       "      dtype='object')"
      ]
     },
     "execution_count": 9,
     "metadata": {},
     "output_type": "execute_result"
    }
   ],
   "source": [
    "igneous_data.columns\n",
    "#igneous_data.head()"
   ]
  },
  {
   "cell_type": "markdown",
   "metadata": {},
   "source": [
    "Lots of different geochemical data. Note that the major elements are given as weight percent and the the minor elements are parts per million (ppm).\n",
    "\n",
    "## Filter to look at volcanics\n",
    "\n",
    "Let's make it so that we are only dealing with the data from volcanic rocks."
   ]
  },
  {
   "cell_type": "code",
   "execution_count": 8,
   "metadata": {},
   "outputs": [
    {
     "data": {
      "text/html": [
       "<div>\n",
       "<style scoped>\n",
       "    .dataframe tbody tr th:only-of-type {\n",
       "        vertical-align: middle;\n",
       "    }\n",
       "\n",
       "    .dataframe tbody tr th {\n",
       "        vertical-align: top;\n",
       "    }\n",
       "\n",
       "    .dataframe thead th {\n",
       "        text-align: right;\n",
       "    }\n",
       "</style>\n",
       "<table border=\"1\" class=\"dataframe\">\n",
       "  <thead>\n",
       "    <tr style=\"text-align: right;\">\n",
       "      <th></th>\n",
       "      <th>ID</th>\n",
       "      <th>SAMPLE ID</th>\n",
       "      <th>SOURCE</th>\n",
       "      <th>REFERENCE</th>\n",
       "      <th>LOCALITY</th>\n",
       "      <th>METHODS</th>\n",
       "      <th>MATERIAL</th>\n",
       "      <th>TYPE</th>\n",
       "      <th>COMPOSITION</th>\n",
       "      <th>ROCK NAME</th>\n",
       "      <th>ID.1</th>\n",
       "      <th>LATITUDE</th>\n",
       "      <th>LONGITUDE</th>\n",
       "      <th>LOC PREC</th>\n",
       "      <th>MIN AGE</th>\n",
       "      <th>MAX AGE</th>\n",
       "      <th>AGE</th>\n",
       "      <th>SIO2</th>\n",
       "      <th>TIO2</th>\n",
       "      <th>AL2O3</th>\n",
       "      <th>FE2O3</th>\n",
       "      <th>FE2O3T</th>\n",
       "      <th>FEO</th>\n",
       "      <th>FEOT</th>\n",
       "      <th>MGO</th>\n",
       "      <th>CAO</th>\n",
       "      <th>NA2O</th>\n",
       "      <th>K2O</th>\n",
       "      <th>P2O5</th>\n",
       "      <th>MNO</th>\n",
       "      <th>H2O_TOTAL</th>\n",
       "      <th>LA</th>\n",
       "      <th>CE</th>\n",
       "      <th>PR</th>\n",
       "      <th>ND</th>\n",
       "      <th>SM</th>\n",
       "      <th>EU</th>\n",
       "      <th>GD</th>\n",
       "      <th>TB</th>\n",
       "      <th>DY</th>\n",
       "      <th>HO</th>\n",
       "      <th>ER</th>\n",
       "      <th>TM</th>\n",
       "      <th>YB</th>\n",
       "      <th>LU</th>\n",
       "      <th>LI</th>\n",
       "      <th>BE</th>\n",
       "      <th>B</th>\n",
       "      <th>C</th>\n",
       "      <th>CO2</th>\n",
       "      <th>F</th>\n",
       "      <th>CL</th>\n",
       "      <th>SC</th>\n",
       "      <th>TI</th>\n",
       "      <th>V</th>\n",
       "      <th>CR</th>\n",
       "      <th>CO</th>\n",
       "      <th>NI</th>\n",
       "      <th>CU</th>\n",
       "      <th>ZN</th>\n",
       "      <th>GA</th>\n",
       "      <th>ZR</th>\n",
       "      <th>OS</th>\n",
       "      <th>RB</th>\n",
       "      <th>BI</th>\n",
       "      <th>HG</th>\n",
       "      <th>BA</th>\n",
       "      <th>Y</th>\n",
       "      <th>PB</th>\n",
       "      <th>TE</th>\n",
       "      <th>NB</th>\n",
       "      <th>SR87_SR86</th>\n",
       "      <th>TL</th>\n",
       "      <th>PT</th>\n",
       "      <th>SN</th>\n",
       "      <th>CD</th>\n",
       "      <th>AS</th>\n",
       "      <th>PD</th>\n",
       "      <th>SR</th>\n",
       "      <th>SE</th>\n",
       "      <th>S</th>\n",
       "      <th>AU</th>\n",
       "      <th>TA</th>\n",
       "      <th>MO</th>\n",
       "      <th>U</th>\n",
       "      <th>CS</th>\n",
       "      <th>SB</th>\n",
       "      <th>AG</th>\n",
       "      <th>W</th>\n",
       "      <th>TH</th>\n",
       "      <th>RE</th>\n",
       "      <th>HF</th>\n",
       "      <th>IR</th>\n",
       "    </tr>\n",
       "  </thead>\n",
       "  <tbody>\n",
       "    <tr>\n",
       "      <th>0</th>\n",
       "      <td>KV68702</td>\n",
       "      <td>D102672</td>\n",
       "      <td>USGS</td>\n",
       "      <td>USGS, 2004</td>\n",
       "      <td>NaN</td>\n",
       "      <td>UNKNOWN</td>\n",
       "      <td>IGNEOUS</td>\n",
       "      <td>VOLCANIC</td>\n",
       "      <td>MAFIC</td>\n",
       "      <td>BASALT</td>\n",
       "      <td>68702</td>\n",
       "      <td>19.25</td>\n",
       "      <td>-155.13</td>\n",
       "      <td>0.01</td>\n",
       "      <td>0.0</td>\n",
       "      <td>0.01</td>\n",
       "      <td>0.01</td>\n",
       "      <td>49.97</td>\n",
       "      <td>2.57</td>\n",
       "      <td>13.11</td>\n",
       "      <td>1.83</td>\n",
       "      <td>12.49892</td>\n",
       "      <td>9.60</td>\n",
       "      <td>NaN</td>\n",
       "      <td>9.06</td>\n",
       "      <td>10.58</td>\n",
       "      <td>2.24</td>\n",
       "      <td>0.47</td>\n",
       "      <td>0.26</td>\n",
       "      <td>0.17</td>\n",
       "      <td>NaN</td>\n",
       "      <td>30.00</td>\n",
       "      <td>NaN</td>\n",
       "      <td>NaN</td>\n",
       "      <td>NaN</td>\n",
       "      <td>NaN</td>\n",
       "      <td>NaN</td>\n",
       "      <td>NaN</td>\n",
       "      <td>NaN</td>\n",
       "      <td>NaN</td>\n",
       "      <td>NaN</td>\n",
       "      <td>NaN</td>\n",
       "      <td>NaN</td>\n",
       "      <td>3.00</td>\n",
       "      <td>NaN</td>\n",
       "      <td>NaN</td>\n",
       "      <td>NaN</td>\n",
       "      <td>NaN</td>\n",
       "      <td>NaN</td>\n",
       "      <td>0.02</td>\n",
       "      <td>0.04</td>\n",
       "      <td>0.01</td>\n",
       "      <td>50.00</td>\n",
       "      <td>1.00</td>\n",
       "      <td>500.0</td>\n",
       "      <td>500.0</td>\n",
       "      <td>50.00</td>\n",
       "      <td>200.0</td>\n",
       "      <td>150.0</td>\n",
       "      <td>NaN</td>\n",
       "      <td>30.0</td>\n",
       "      <td>150.0</td>\n",
       "      <td>NaN</td>\n",
       "      <td>NaN</td>\n",
       "      <td>NaN</td>\n",
       "      <td>NaN</td>\n",
       "      <td>150.0</td>\n",
       "      <td>50.0</td>\n",
       "      <td>NaN</td>\n",
       "      <td>NaN</td>\n",
       "      <td>10.0</td>\n",
       "      <td>NaN</td>\n",
       "      <td>NaN</td>\n",
       "      <td>NaN</td>\n",
       "      <td>NaN</td>\n",
       "      <td>NaN</td>\n",
       "      <td>NaN</td>\n",
       "      <td>NaN</td>\n",
       "      <td>500.0</td>\n",
       "      <td>NaN</td>\n",
       "      <td>NaN</td>\n",
       "      <td>NaN</td>\n",
       "      <td>NaN</td>\n",
       "      <td>5.0</td>\n",
       "      <td>NaN</td>\n",
       "      <td>NaN</td>\n",
       "      <td>NaN</td>\n",
       "      <td>NaN</td>\n",
       "      <td>NaN</td>\n",
       "      <td>NaN</td>\n",
       "      <td>NaN</td>\n",
       "      <td>NaN</td>\n",
       "      <td>NaN</td>\n",
       "    </tr>\n",
       "    <tr>\n",
       "      <th>1</th>\n",
       "      <td>KV68701</td>\n",
       "      <td>W256427</td>\n",
       "      <td>USGS</td>\n",
       "      <td>USGS, 2004</td>\n",
       "      <td>NaN</td>\n",
       "      <td>WDXRF; INAA; ICPAES; AAS</td>\n",
       "      <td>IGNEOUS</td>\n",
       "      <td>NaN</td>\n",
       "      <td>INTERMEDIATE</td>\n",
       "      <td>NaN</td>\n",
       "      <td>68701</td>\n",
       "      <td>33.77</td>\n",
       "      <td>-82.56</td>\n",
       "      <td>0.01</td>\n",
       "      <td>248.0</td>\n",
       "      <td>543.00</td>\n",
       "      <td>395.50</td>\n",
       "      <td>49.90</td>\n",
       "      <td>0.81</td>\n",
       "      <td>17.10</td>\n",
       "      <td>NaN</td>\n",
       "      <td>11.40000</td>\n",
       "      <td>NaN</td>\n",
       "      <td>NaN</td>\n",
       "      <td>5.30</td>\n",
       "      <td>11.10</td>\n",
       "      <td>0.15</td>\n",
       "      <td>0.10</td>\n",
       "      <td>0.26</td>\n",
       "      <td>0.22</td>\n",
       "      <td>NaN</td>\n",
       "      <td>7.25</td>\n",
       "      <td>15.0</td>\n",
       "      <td>NaN</td>\n",
       "      <td>9.8</td>\n",
       "      <td>2.66</td>\n",
       "      <td>0.87</td>\n",
       "      <td>NaN</td>\n",
       "      <td>0.41</td>\n",
       "      <td>NaN</td>\n",
       "      <td>NaN</td>\n",
       "      <td>NaN</td>\n",
       "      <td>NaN</td>\n",
       "      <td>1.60</td>\n",
       "      <td>NaN</td>\n",
       "      <td>25.0</td>\n",
       "      <td>NaN</td>\n",
       "      <td>NaN</td>\n",
       "      <td>NaN</td>\n",
       "      <td>NaN</td>\n",
       "      <td>NaN</td>\n",
       "      <td>NaN</td>\n",
       "      <td>33.40</td>\n",
       "      <td>0.49</td>\n",
       "      <td>350.0</td>\n",
       "      <td>12.0</td>\n",
       "      <td>30.40</td>\n",
       "      <td>32.0</td>\n",
       "      <td>120.0</td>\n",
       "      <td>140.0</td>\n",
       "      <td>18.0</td>\n",
       "      <td>NaN</td>\n",
       "      <td>NaN</td>\n",
       "      <td>6.5</td>\n",
       "      <td>NaN</td>\n",
       "      <td>NaN</td>\n",
       "      <td>NaN</td>\n",
       "      <td>14.0</td>\n",
       "      <td>29.0</td>\n",
       "      <td>0.03</td>\n",
       "      <td>NaN</td>\n",
       "      <td>NaN</td>\n",
       "      <td>NaN</td>\n",
       "      <td>NaN</td>\n",
       "      <td>NaN</td>\n",
       "      <td>NaN</td>\n",
       "      <td>20.0</td>\n",
       "      <td>NaN</td>\n",
       "      <td>1000.0</td>\n",
       "      <td>NaN</td>\n",
       "      <td>NaN</td>\n",
       "      <td>100.0</td>\n",
       "      <td>NaN</td>\n",
       "      <td>NaN</td>\n",
       "      <td>0.70</td>\n",
       "      <td>0.28</td>\n",
       "      <td>4.16</td>\n",
       "      <td>NaN</td>\n",
       "      <td>NaN</td>\n",
       "      <td>2.0</td>\n",
       "      <td>NaN</td>\n",
       "      <td>0.96</td>\n",
       "      <td>NaN</td>\n",
       "    </tr>\n",
       "    <tr>\n",
       "      <th>2</th>\n",
       "      <td>KV68700</td>\n",
       "      <td>W257449</td>\n",
       "      <td>USGS</td>\n",
       "      <td>USGS, 2004</td>\n",
       "      <td>NaN</td>\n",
       "      <td>WDXRF; TITR; ISE; INAA; ICPAES; GRAV; EDXRF; AAS</td>\n",
       "      <td>IGNEOUS</td>\n",
       "      <td>PLUTONIC</td>\n",
       "      <td>INTERMEDIATE</td>\n",
       "      <td>SYENITE</td>\n",
       "      <td>68700</td>\n",
       "      <td>34.45</td>\n",
       "      <td>-92.87</td>\n",
       "      <td>0.01</td>\n",
       "      <td>65.0</td>\n",
       "      <td>144.00</td>\n",
       "      <td>104.50</td>\n",
       "      <td>49.90</td>\n",
       "      <td>0.22</td>\n",
       "      <td>20.90</td>\n",
       "      <td>NaN</td>\n",
       "      <td>3.16000</td>\n",
       "      <td>0.82</td>\n",
       "      <td>NaN</td>\n",
       "      <td>0.60</td>\n",
       "      <td>4.72</td>\n",
       "      <td>6.13</td>\n",
       "      <td>6.70</td>\n",
       "      <td>0.14</td>\n",
       "      <td>0.23</td>\n",
       "      <td>NaN</td>\n",
       "      <td>137.00</td>\n",
       "      <td>151.0</td>\n",
       "      <td>NaN</td>\n",
       "      <td>21.0</td>\n",
       "      <td>1.70</td>\n",
       "      <td>0.37</td>\n",
       "      <td>NaN</td>\n",
       "      <td>0.11</td>\n",
       "      <td>NaN</td>\n",
       "      <td>NaN</td>\n",
       "      <td>NaN</td>\n",
       "      <td>NaN</td>\n",
       "      <td>0.44</td>\n",
       "      <td>0.06</td>\n",
       "      <td>144.0</td>\n",
       "      <td>NaN</td>\n",
       "      <td>NaN</td>\n",
       "      <td>NaN</td>\n",
       "      <td>1.60</td>\n",
       "      <td>0.05</td>\n",
       "      <td>0.01</td>\n",
       "      <td>0.07</td>\n",
       "      <td>NaN</td>\n",
       "      <td>142.0</td>\n",
       "      <td>NaN</td>\n",
       "      <td>0.91</td>\n",
       "      <td>NaN</td>\n",
       "      <td>NaN</td>\n",
       "      <td>121.0</td>\n",
       "      <td>NaN</td>\n",
       "      <td>290.0</td>\n",
       "      <td>NaN</td>\n",
       "      <td>134.0</td>\n",
       "      <td>NaN</td>\n",
       "      <td>NaN</td>\n",
       "      <td>1900.0</td>\n",
       "      <td>NaN</td>\n",
       "      <td>NaN</td>\n",
       "      <td>NaN</td>\n",
       "      <td>91.0</td>\n",
       "      <td>NaN</td>\n",
       "      <td>NaN</td>\n",
       "      <td>NaN</td>\n",
       "      <td>NaN</td>\n",
       "      <td>NaN</td>\n",
       "      <td>4.4</td>\n",
       "      <td>NaN</td>\n",
       "      <td>1380.0</td>\n",
       "      <td>NaN</td>\n",
       "      <td>0.11</td>\n",
       "      <td>NaN</td>\n",
       "      <td>1.42</td>\n",
       "      <td>NaN</td>\n",
       "      <td>5.00</td>\n",
       "      <td>4.61</td>\n",
       "      <td>0.50</td>\n",
       "      <td>NaN</td>\n",
       "      <td>NaN</td>\n",
       "      <td>19.2</td>\n",
       "      <td>NaN</td>\n",
       "      <td>3.65</td>\n",
       "      <td>NaN</td>\n",
       "    </tr>\n",
       "    <tr>\n",
       "      <th>3</th>\n",
       "      <td>KV68699</td>\n",
       "      <td>W256919</td>\n",
       "      <td>USGS</td>\n",
       "      <td>USGS, 2004</td>\n",
       "      <td>NaN</td>\n",
       "      <td>WDXRF; TITR; ICPAES; GRAV; EDXRF</td>\n",
       "      <td>IGNEOUS</td>\n",
       "      <td>PLUTONIC</td>\n",
       "      <td>MAFIC</td>\n",
       "      <td>DIABASE</td>\n",
       "      <td>68699</td>\n",
       "      <td>44.31</td>\n",
       "      <td>-72.00</td>\n",
       "      <td>0.01</td>\n",
       "      <td>354.0</td>\n",
       "      <td>490.00</td>\n",
       "      <td>422.00</td>\n",
       "      <td>49.90</td>\n",
       "      <td>2.40</td>\n",
       "      <td>13.50</td>\n",
       "      <td>NaN</td>\n",
       "      <td>13.60000</td>\n",
       "      <td>9.91</td>\n",
       "      <td>NaN</td>\n",
       "      <td>5.59</td>\n",
       "      <td>8.88</td>\n",
       "      <td>3.68</td>\n",
       "      <td>0.19</td>\n",
       "      <td>0.27</td>\n",
       "      <td>0.23</td>\n",
       "      <td>NaN</td>\n",
       "      <td>13.00</td>\n",
       "      <td>20.0</td>\n",
       "      <td>NaN</td>\n",
       "      <td>25.0</td>\n",
       "      <td>NaN</td>\n",
       "      <td>2.00</td>\n",
       "      <td>NaN</td>\n",
       "      <td>NaN</td>\n",
       "      <td>NaN</td>\n",
       "      <td>NaN</td>\n",
       "      <td>NaN</td>\n",
       "      <td>NaN</td>\n",
       "      <td>4.00</td>\n",
       "      <td>NaN</td>\n",
       "      <td>6.0</td>\n",
       "      <td>1.0</td>\n",
       "      <td>NaN</td>\n",
       "      <td>NaN</td>\n",
       "      <td>0.04</td>\n",
       "      <td>NaN</td>\n",
       "      <td>NaN</td>\n",
       "      <td>44.00</td>\n",
       "      <td>1.50</td>\n",
       "      <td>380.0</td>\n",
       "      <td>35.0</td>\n",
       "      <td>46.00</td>\n",
       "      <td>23.0</td>\n",
       "      <td>29.0</td>\n",
       "      <td>90.0</td>\n",
       "      <td>20.0</td>\n",
       "      <td>180.0</td>\n",
       "      <td>NaN</td>\n",
       "      <td>NaN</td>\n",
       "      <td>NaN</td>\n",
       "      <td>NaN</td>\n",
       "      <td>11.0</td>\n",
       "      <td>43.0</td>\n",
       "      <td>NaN</td>\n",
       "      <td>NaN</td>\n",
       "      <td>7.0</td>\n",
       "      <td>NaN</td>\n",
       "      <td>NaN</td>\n",
       "      <td>NaN</td>\n",
       "      <td>NaN</td>\n",
       "      <td>NaN</td>\n",
       "      <td>NaN</td>\n",
       "      <td>NaN</td>\n",
       "      <td>170.0</td>\n",
       "      <td>NaN</td>\n",
       "      <td>NaN</td>\n",
       "      <td>NaN</td>\n",
       "      <td>NaN</td>\n",
       "      <td>NaN</td>\n",
       "      <td>NaN</td>\n",
       "      <td>NaN</td>\n",
       "      <td>NaN</td>\n",
       "      <td>NaN</td>\n",
       "      <td>NaN</td>\n",
       "      <td>4.0</td>\n",
       "      <td>NaN</td>\n",
       "      <td>NaN</td>\n",
       "      <td>NaN</td>\n",
       "    </tr>\n",
       "    <tr>\n",
       "      <th>4</th>\n",
       "      <td>KV68698</td>\n",
       "      <td>W250537</td>\n",
       "      <td>USGS</td>\n",
       "      <td>USGS, 2004</td>\n",
       "      <td>NaN</td>\n",
       "      <td>WDXRF; TITR; INAA; ICPAES; GRAV; FIS; EDXRF; AAS</td>\n",
       "      <td>IGNEOUS</td>\n",
       "      <td>VOLCANIC</td>\n",
       "      <td>MAFIC</td>\n",
       "      <td>BASALT</td>\n",
       "      <td>68698</td>\n",
       "      <td>38.63</td>\n",
       "      <td>-77.79</td>\n",
       "      <td>0.01</td>\n",
       "      <td>144.0</td>\n",
       "      <td>206.00</td>\n",
       "      <td>175.00</td>\n",
       "      <td>49.90</td>\n",
       "      <td>1.11</td>\n",
       "      <td>13.90</td>\n",
       "      <td>NaN</td>\n",
       "      <td>13.70000</td>\n",
       "      <td>9.00</td>\n",
       "      <td>NaN</td>\n",
       "      <td>6.65</td>\n",
       "      <td>9.46</td>\n",
       "      <td>2.76</td>\n",
       "      <td>0.76</td>\n",
       "      <td>0.13</td>\n",
       "      <td>0.21</td>\n",
       "      <td>NaN</td>\n",
       "      <td>8.80</td>\n",
       "      <td>18.0</td>\n",
       "      <td>NaN</td>\n",
       "      <td>11.0</td>\n",
       "      <td>3.20</td>\n",
       "      <td>1.02</td>\n",
       "      <td>NaN</td>\n",
       "      <td>0.70</td>\n",
       "      <td>NaN</td>\n",
       "      <td>NaN</td>\n",
       "      <td>NaN</td>\n",
       "      <td>NaN</td>\n",
       "      <td>3.10</td>\n",
       "      <td>0.45</td>\n",
       "      <td>18.0</td>\n",
       "      <td>NaN</td>\n",
       "      <td>NaN</td>\n",
       "      <td>NaN</td>\n",
       "      <td>0.04</td>\n",
       "      <td>NaN</td>\n",
       "      <td>NaN</td>\n",
       "      <td>43.80</td>\n",
       "      <td>0.67</td>\n",
       "      <td>351.0</td>\n",
       "      <td>84.2</td>\n",
       "      <td>50.30</td>\n",
       "      <td>32.0</td>\n",
       "      <td>130.0</td>\n",
       "      <td>100.0</td>\n",
       "      <td>19.0</td>\n",
       "      <td>91.0</td>\n",
       "      <td>NaN</td>\n",
       "      <td>27.0</td>\n",
       "      <td>NaN</td>\n",
       "      <td>NaN</td>\n",
       "      <td>240.0</td>\n",
       "      <td>27.0</td>\n",
       "      <td>6.0</td>\n",
       "      <td>NaN</td>\n",
       "      <td>3.9</td>\n",
       "      <td>NaN</td>\n",
       "      <td>NaN</td>\n",
       "      <td>8.6</td>\n",
       "      <td>NaN</td>\n",
       "      <td>NaN</td>\n",
       "      <td>NaN</td>\n",
       "      <td>8.5</td>\n",
       "      <td>240.0</td>\n",
       "      <td>NaN</td>\n",
       "      <td>NaN</td>\n",
       "      <td>6.6</td>\n",
       "      <td>0.31</td>\n",
       "      <td>NaN</td>\n",
       "      <td>0.43</td>\n",
       "      <td>0.40</td>\n",
       "      <td>NaN</td>\n",
       "      <td>NaN</td>\n",
       "      <td>NaN</td>\n",
       "      <td>1.9</td>\n",
       "      <td>NaN</td>\n",
       "      <td>2.50</td>\n",
       "      <td>NaN</td>\n",
       "    </tr>\n",
       "  </tbody>\n",
       "</table>\n",
       "</div>"
      ],
      "text/plain": [
       "        ID SAMPLE ID SOURCE   REFERENCE LOCALITY  \\\n",
       "0  KV68702   D102672   USGS  USGS, 2004      NaN   \n",
       "1  KV68701   W256427   USGS  USGS, 2004      NaN   \n",
       "2  KV68700   W257449   USGS  USGS, 2004      NaN   \n",
       "3  KV68699   W256919   USGS  USGS, 2004      NaN   \n",
       "4  KV68698   W250537   USGS  USGS, 2004      NaN   \n",
       "\n",
       "                                            METHODS MATERIAL      TYPE  \\\n",
       "0                                           UNKNOWN  IGNEOUS  VOLCANIC   \n",
       "1                          WDXRF; INAA; ICPAES; AAS  IGNEOUS       NaN   \n",
       "2  WDXRF; TITR; ISE; INAA; ICPAES; GRAV; EDXRF; AAS  IGNEOUS  PLUTONIC   \n",
       "3                  WDXRF; TITR; ICPAES; GRAV; EDXRF  IGNEOUS  PLUTONIC   \n",
       "4  WDXRF; TITR; INAA; ICPAES; GRAV; FIS; EDXRF; AAS  IGNEOUS  VOLCANIC   \n",
       "\n",
       "    COMPOSITION ROCK NAME   ID.1  LATITUDE  LONGITUDE  LOC PREC  MIN AGE  \\\n",
       "0         MAFIC    BASALT  68702     19.25    -155.13      0.01      0.0   \n",
       "1  INTERMEDIATE       NaN  68701     33.77     -82.56      0.01    248.0   \n",
       "2  INTERMEDIATE   SYENITE  68700     34.45     -92.87      0.01     65.0   \n",
       "3         MAFIC   DIABASE  68699     44.31     -72.00      0.01    354.0   \n",
       "4         MAFIC    BASALT  68698     38.63     -77.79      0.01    144.0   \n",
       "\n",
       "   MAX AGE     AGE   SIO2  TIO2  AL2O3  FE2O3    FE2O3T   FEO  FEOT   MGO  \\\n",
       "0     0.01    0.01  49.97  2.57  13.11   1.83  12.49892  9.60   NaN  9.06   \n",
       "1   543.00  395.50  49.90  0.81  17.10    NaN  11.40000   NaN   NaN  5.30   \n",
       "2   144.00  104.50  49.90  0.22  20.90    NaN   3.16000  0.82   NaN  0.60   \n",
       "3   490.00  422.00  49.90  2.40  13.50    NaN  13.60000  9.91   NaN  5.59   \n",
       "4   206.00  175.00  49.90  1.11  13.90    NaN  13.70000  9.00   NaN  6.65   \n",
       "\n",
       "     CAO  NA2O   K2O  P2O5   MNO  H2O_TOTAL      LA     CE  PR    ND    SM  \\\n",
       "0  10.58  2.24  0.47  0.26  0.17        NaN   30.00    NaN NaN   NaN   NaN   \n",
       "1  11.10  0.15  0.10  0.26  0.22        NaN    7.25   15.0 NaN   9.8  2.66   \n",
       "2   4.72  6.13  6.70  0.14  0.23        NaN  137.00  151.0 NaN  21.0  1.70   \n",
       "3   8.88  3.68  0.19  0.27  0.23        NaN   13.00   20.0 NaN  25.0   NaN   \n",
       "4   9.46  2.76  0.76  0.13  0.21        NaN    8.80   18.0 NaN  11.0  3.20   \n",
       "\n",
       "     EU  GD    TB  DY  HO  ER  TM    YB    LU     LI   BE   B   C   CO2     F  \\\n",
       "0   NaN NaN   NaN NaN NaN NaN NaN  3.00   NaN    NaN  NaN NaN NaN  0.02  0.04   \n",
       "1  0.87 NaN  0.41 NaN NaN NaN NaN  1.60   NaN   25.0  NaN NaN NaN   NaN   NaN   \n",
       "2  0.37 NaN  0.11 NaN NaN NaN NaN  0.44  0.06  144.0  NaN NaN NaN  1.60  0.05   \n",
       "3  2.00 NaN   NaN NaN NaN NaN NaN  4.00   NaN    6.0  1.0 NaN NaN  0.04   NaN   \n",
       "4  1.02 NaN  0.70 NaN NaN NaN NaN  3.10  0.45   18.0  NaN NaN NaN  0.04   NaN   \n",
       "\n",
       "     CL     SC    TI      V     CR     CO     NI     CU     ZN    GA     ZR  \\\n",
       "0  0.01  50.00  1.00  500.0  500.0  50.00  200.0  150.0    NaN  30.0  150.0   \n",
       "1   NaN  33.40  0.49  350.0   12.0  30.40   32.0  120.0  140.0  18.0    NaN   \n",
       "2  0.01   0.07   NaN  142.0    NaN   0.91    NaN    NaN  121.0   NaN  290.0   \n",
       "3   NaN  44.00  1.50  380.0   35.0  46.00   23.0   29.0   90.0  20.0  180.0   \n",
       "4   NaN  43.80  0.67  351.0   84.2  50.30   32.0  130.0  100.0  19.0   91.0   \n",
       "\n",
       "   OS     RB  BI  HG      BA     Y    PB    TE    NB  SR87_SR86  TL   PT  SN  \\\n",
       "0 NaN    NaN NaN NaN   150.0  50.0   NaN   NaN  10.0        NaN NaN  NaN NaN   \n",
       "1 NaN    6.5 NaN NaN     NaN  14.0  29.0  0.03   NaN        NaN NaN  NaN NaN   \n",
       "2 NaN  134.0 NaN NaN  1900.0   NaN   NaN   NaN  91.0        NaN NaN  NaN NaN   \n",
       "3 NaN    NaN NaN NaN    11.0  43.0   NaN   NaN   7.0        NaN NaN  NaN NaN   \n",
       "4 NaN   27.0 NaN NaN   240.0  27.0   6.0   NaN   3.9        NaN NaN  8.6 NaN   \n",
       "\n",
       "   CD    AS   PD      SR  SE     S     AU    TA   MO     U    CS    SB  AG  \\\n",
       "0 NaN   NaN  NaN   500.0 NaN   NaN    NaN   NaN  5.0   NaN   NaN   NaN NaN   \n",
       "1 NaN  20.0  NaN  1000.0 NaN   NaN  100.0   NaN  NaN  0.70  0.28  4.16 NaN   \n",
       "2 NaN   4.4  NaN  1380.0 NaN  0.11    NaN  1.42  NaN  5.00  4.61  0.50 NaN   \n",
       "3 NaN   NaN  NaN   170.0 NaN   NaN    NaN   NaN  NaN   NaN   NaN   NaN NaN   \n",
       "4 NaN   NaN  8.5   240.0 NaN   NaN    6.6  0.31  NaN  0.43  0.40   NaN NaN   \n",
       "\n",
       "    W    TH  RE    HF  IR  \n",
       "0 NaN   NaN NaN   NaN NaN  \n",
       "1 NaN   2.0 NaN  0.96 NaN  \n",
       "2 NaN  19.2 NaN  3.65 NaN  \n",
       "3 NaN   4.0 NaN   NaN NaN  \n",
       "4 NaN   1.9 NaN  2.50 NaN  "
      ]
     },
     "execution_count": 8,
     "metadata": {},
     "output_type": "execute_result"
    }
   ],
   "source": [
    "volcanic_data = igneous_data[igneous_data['MATERIAL']=='IGNEOUS']\n",
    "volcanic_data.head()"
   ]
  },
  {
   "cell_type": "markdown",
   "metadata": {},
   "source": [
    "## Visualizing the data\n",
    "\n",
    "A type of visualization we have used a fair amount are histograms. Let's plot up how much SiO$_2$ there is in the volcanics rocks that are in the Earthchem database."
   ]
  },
  {
   "cell_type": "code",
   "execution_count": 10,
   "metadata": {},
   "outputs": [
    {
     "data": {
      "image/png": "[encoded data removed]",
      "text/plain": [
       "<Figure size 432x288 with 1 Axes>"
      ]
     },
     "metadata": {
      "needs_background": "light"
     },
     "output_type": "display_data"
    }
   ],
   "source": [
    "plt.hist(volcanic_data['SIO2'],bins=100)\n",
    "plt.xlabel('SiO$_2$ percentage')\n",
    "plt.ylabel('number of measurements')\n",
    "plt.show()"
   ]
  },
  {
   "cell_type": "markdown",
   "metadata": {},
   "source": [
    "Recall that instead of having the y-axis be number of values, we can have it be density using `density=True` (normalized to form a probability density, i.e., the area (or integral) under the histogram will sum to 1). Given that the count itself is rather arbitary, this can be an advantageous way to plot a distribution."
   ]
  },
  {
   "cell_type": "code",
   "execution_count": 12,
   "metadata": {},
   "outputs": [
    {
     "data": {
      "image/png": "[encoded data removed]",
      "text/plain": [
       "<Figure size 432x288 with 1 Axes>"
      ]
     },
     "metadata": {
      "needs_background": "light"
     },
     "output_type": "display_data"
    }
   ],
   "source": [
    "plt.hist(volcanic_data['SIO2'],bins=100,density=True)\n",
    "plt.xlabel('SiO$_2$ percentage')\n",
    "plt.ylabel('Density')\n",
    "plt.show()"
   ]
  },
  {
   "cell_type": "markdown",
   "metadata": {},
   "source": [
    "## Kernel density estimate\n",
    "\n",
    "One of the ways of representing the distribution of a set of datapoints is known as the 'kernel density estimate'. This is a useful way of showing the distribution of data. It places a 'kernel' (generally a normal distribution) at each data point and then sums them up.  This avoids the awkwardness of needing to chose a bin size associated with histograms, for example.\n",
    "\n",
    "Here is an illustration of how this works.\n",
    "\n",
    "<img src=\"./images/kde.png\" width = 600>\n",
    "[Source: https://commons.wikimedia.org/wiki/File:Comparison_of_1D_histogram_and_KDE.png Wikimedia Creative Commons] \n",
    "\n",
    "There are two choices that are consequential when developing a kernel density estimate: the shape of the \"kernel\" and the bandwidth that sets the width of the kernel. The shape doesn't end up mattering too much, but the bandwidth very much does. There are \"rules of thumb\" for the bandwidth that are implemented as the defaults (and therefore often used), but these can be adjusted and it often isn't clear what the \"right choice\" is.\n",
    "\n",
    "### Developing a kernel density estimate with ```kdeplot```\n",
    "\n",
    "The seaborn function ```kdeplot``` generates a kernal density estimate and then plots it. Note that seaborn provides convenience wrapper functions around other scientific python packages. It is using matplotlib for plotting and it is using statsmodels, scipy and numpy for the statistical methods. It combines these into functions that can quickly get these tasks done. The default is a gaussian kernel and Scott's rule of thumb for the bandwidth."
   ]
  },
  {
   "cell_type": "code",
   "execution_count": 13,
   "metadata": {},
   "outputs": [
    {
     "data": {
      "image/png": "[encoded data removed]",
      "text/plain": [
       "<Figure size 432x288 with 1 Axes>"
      ]
     },
     "metadata": {
      "needs_background": "light"
     },
     "output_type": "display_data"
    }
   ],
   "source": [
    "sns.kdeplot(volcanic_data['SIO2'],shade=True)\n",
    "plt.xlabel('SiO$_2$ percentage')\n",
    "plt.ylabel('Density')\n",
    "plt.show()"
   ]
  },
  {
   "cell_type": "markdown",
   "metadata": {},
   "source": [
    "The `sns.distplot` function will plot both a density-normalized histogram and a kernel density estimate curve."
   ]
  },
  {
   "cell_type": "code",
   "execution_count": 14,
   "metadata": {},
   "outputs": [
    {
     "name": "stderr",
     "output_type": "stream",
     "text": [
      "/Users/ddreger/opt/anaconda3/lib/python3.8/site-packages/seaborn/distributions.py:2557: FutureWarning: `distplot` is a deprecated function and will be removed in a future version. Please adapt your code to use either `displot` (a figure-level function with similar flexibility) or `histplot` (an axes-level function for histograms).\n",
      "  warnings.warn(msg, FutureWarning)\n"
     ]
    },
    {
     "data": {
      "image/png": "[encoded data removed]",
      "text/plain": [
       "<Figure size 432x288 with 1 Axes>"
      ]
     },
     "metadata": {
      "needs_background": "light"
     },
     "output_type": "display_data"
    }
   ],
   "source": [
    "sns.distplot(volcanic_data['SIO2'])\n",
    "plt.xlabel('SiO$_2$ percentage')\n",
    "plt.ylabel('Density')\n",
    "plt.show()"
   ]
  },
  {
   "cell_type": "code",
   "execution_count": 32,
   "metadata": {},
   "outputs": [],
   "source": [
    "sns.displot?"
   ]
  },
  {
   "cell_type": "code",
   "execution_count": 46,
   "metadata": {},
   "outputs": [
    {
     "data": {
      "image/png": "[encoded data removed]",
      "text/plain": [
       "<Figure size 360x360 with 1 Axes>"
      ]
     },
     "metadata": {
      "needs_background": "light"
     },
     "output_type": "display_data"
    }
   ],
   "source": [
    "#How can we fix this warning?\n",
    "sns.displot(volcanic_data['SIO2'],kind='kde')\n",
    "plt.hist(volcanic_data['SIO2'],color='lightsteelblue',bins=100,density=True)\n",
    "plt.xlabel('SiO$_2$ percentage')\n",
    "plt.ylabel('Density')\n",
    "plt.show()\n"
   ]
  },
  {
   "cell_type": "markdown",
   "metadata": {},
   "source": [
    "## Making a bivariant histogram/scatter plot\n",
    "\n",
    "If we want to investigate how another aspect of the chemistry of volcanic rocks relates to silica content we can use `sns.joinplot` to make a cross-plot. Here let's look at how iron content (FeO) relates to silica content."
   ]
  },
  {
   "cell_type": "code",
   "execution_count": 47,
   "metadata": {},
   "outputs": [
    {
     "name": "stderr",
     "output_type": "stream",
     "text": [
      "/Users/ddreger/opt/anaconda3/lib/python3.8/site-packages/seaborn/_decorators.py:36: FutureWarning: Pass the following variables as keyword args: x, y. From version 0.12, the only valid positional argument will be `data`, and passing other arguments without an explicit keyword will result in an error or misinterpretation.\n",
      "  warnings.warn(\n"
     ]
    },
    {
     "data": {
      "image/png": "[encoded data removed]",
      "text/plain": [
       "<Figure size 432x432 with 3 Axes>"
      ]
     },
     "metadata": {
      "needs_background": "light"
     },
     "output_type": "display_data"
    }
   ],
   "source": [
    "sns.jointplot(volcanic_data['SIO2'], volcanic_data['FEO'])\n",
    "plt.show()"
   ]
  },
  {
   "cell_type": "markdown",
   "metadata": {},
   "source": [
    "Pretty hard to see what is going on there. Perhaps it will be better if we change the y limit so that it is tighter on the data and make the symbols have a transparency."
   ]
  },
  {
   "cell_type": "code",
   "execution_count": null,
   "metadata": {},
   "outputs": [],
   "source": [
    "sns.jointplot(volcanic_data['SIO2'], volcanic_data['FEO'],...)\n",
    "plt.ylim(...)\n",
    "plt.show()"
   ]
  },
  {
   "cell_type": "markdown",
   "metadata": {},
   "source": [
    "## Making a bivariant kernel density plot\n",
    "\n",
    "Still pretty hard to see what is going on in the above plot, but it is an improvement. Let's put kernel density estimates to use. Here the same kernel density estimate is used and shown for the univariate data on each axis. However, we now have a bivariate kernel density estimate as well. Taken together we can see that there is a strong relationship between SiO$_2$ levels and FeO levels in volcanic rocks."
   ]
  },
  {
   "cell_type": "code",
   "execution_count": null,
   "metadata": {},
   "outputs": [],
   "source": [
    "sns.jointplot(volcanic_data['SIO2'], volcanic_data['FEO'],kind='kde')\n",
    "plt.ylim(0,20)\n",
    "plt.show()"
   ]
  },
  {
   "cell_type": "markdown",
   "metadata": {},
   "source": [
    "## Mafic vs. felsic\n",
    "\n",
    "This illustration provides an overview of the compositional difference between different types of igneous rocks:\n",
    "\n",
    "<img src=\"./images/mafic_felsic.jpg\" width = 600>\n",
    "\n",
    "These compositional differences manifest in different material properties which can be observed at active volcanos."
   ]
  },
  {
   "cell_type": "markdown",
   "metadata": {},
   "source": [
    "## Evaluating compositional differences between mafic, intermediate and felsic volcanics (iron)\n",
    "\n",
    "Let's first focus on the difference between the iron contenct "
   ]
  },
  {
   "cell_type": "code",
   "execution_count": null,
   "metadata": {},
   "outputs": [],
   "source": [
    "plt.hist(volcanic_data[volcanic_data['COMPOSITION']=='INTERMEDIATE']['FEO'],bins=100,density=True,label='intermediate volcanics')\n",
    "plt.hist(volcanic_data[volcanic_data['COMPOSITION']=='FELSIC']['FEO'],bins=100,density=True,label='felsic volcanics')\n",
    "plt.hist(volcanic_data[volcanic_data['COMPOSITION']=='MAFIC']['FEO'],bins=100,density=True,label='mafic volcanics')\n",
    "plt.xlim(0,20)\n",
    "plt.xlabel('FeO (%)')\n",
    "plt.ylabel('density')\n",
    "plt.legend()\n",
    "plt.show()\n",
    "\n",
    "sns.kdeplot(volcanic_data[volcanic_data['COMPOSITION']=='INTERMEDIATE']['FEO'],label='intermediate volcanics')\n",
    "sns.kdeplot(volcanic_data[volcanic_data['COMPOSITION']=='FELSIC']['FEO'],label='felsic volcanics')\n",
    "sns.kdeplot(volcanic_data[volcanic_data['COMPOSITION']=='MAFIC']['FEO'],label='mafic volcanics')\n",
    "plt.xlim(0,20)\n",
    "plt.xlabel('FeO (%)')\n",
    "plt.ylabel('density')\n",
    "plt.show()"
   ]
  },
  {
   "cell_type": "markdown",
   "metadata": {},
   "source": [
    "## Other way to visualize the distributions\n",
    "\n",
    "### The box plot\n",
    "\n",
    "> A box plot (or box-and-whisker plot) shows the distribution of quantitative\n",
    "data in a way that facilitates comparisons between variables or across\n",
    "levels of a categorical variable. The box shows the quartiles of the\n",
    "dataset while the whiskers extend to show the rest of the distribution,\n",
    "except for points that are determined to be \"outliers\" using a method\n",
    "that is a function of the inter-quartile range. *From seaborn docstring*"
   ]
  },
  {
   "cell_type": "code",
   "execution_count": null,
   "metadata": {},
   "outputs": [],
   "source": [
    "plt.figure(figsize=(6,6))\n",
    "sns.boxplot(x=\"COMPOSITION\", y=\"FEO\", data=volcanic_data, order=['FELSIC','INTERMEDIATE','MAFIC'])\n",
    "plt.show()"
   ]
  },
  {
   "cell_type": "markdown",
   "metadata": {},
   "source": [
    "### Violin plot\n",
    "\n",
    "Perhaps you like box plots, but you are also have a new-found love of probability density estimates. Well you are in luck as the violin plot puts them both together."
   ]
  },
  {
   "cell_type": "code",
   "execution_count": null,
   "metadata": {},
   "outputs": [],
   "source": [
    "plt.figure(figsize=(8,8))\n",
    "sns.violinplot(x=\"COMPOSITION\", y=\"FEO\", data=volcanic_data, order=['FELSIC','INTERMEDIATE','MAFIC'])\n",
    "plt.ylim(0,20)\n",
    "plt.show()"
   ]
  },
  {
   "cell_type": "markdown",
   "metadata": {},
   "source": [
    "## Evaluating compositional differences between mafic, intermediate and felsic volcanics (sodium)\n",
    "\n",
    "Looking at the this illustration of composition plot we see that it indicates that there is more iron in mafic rocks (which looks to be the case). It also indicated that there is more sodium in felsic rocks.\n",
    "\n",
    "<img src=\"./images/mafic_felsic.jpg\" width = 600>\n",
    "\n",
    "**Code for you to write**\n",
    "\n",
    " Make the following plots to evaluate this assertion:\n",
    "\n",
    "- jointplot of NA2O vs SI02 for the entire volcanic_data set. make one joint plot that is `kind='kde'` and one that is `kind='hex'`\n",
    "- violin plot of NA2O categorized by composition"
   ]
  },
  {
   "cell_type": "code",
   "execution_count": null,
   "metadata": {},
   "outputs": [],
   "source": []
  },
  {
   "cell_type": "code",
   "execution_count": null,
   "metadata": {},
   "outputs": [],
   "source": []
  },
  {
   "cell_type": "markdown",
   "metadata": {},
   "source": [
    "**Code for you to write**\n",
    "\n",
    "Once you have made these visualizations, calculate the mean NA2O in felsic, intermediate and mafic volcanics. Assign these values to be `mafic_NA20_mean`, `intermediate_NA20_mean` and `felsic_NA20_mean` and print them.\n",
    "\n",
    "Do these values fit with the schematic illustration of the felsic/mafic diagram? What is consistent and what isn't?\n",
    "\n",
    "*write your answer here*"
   ]
  },
  {
   "cell_type": "code",
   "execution_count": null,
   "metadata": {},
   "outputs": [],
   "source": []
  },
  {
   "cell_type": "code",
   "execution_count": null,
   "metadata": {},
   "outputs": [],
   "source": []
  },
  {
   "cell_type": "markdown",
   "metadata": {},
   "source": [
    "# A/B Testing \n",
    "\n",
    "> In modern data analytics, deciding whether two numerical samples come from the same underlying distribution is called A/B testing. The name refers to the labels of the two samples, A and B. \n",
    "\n",
    "> **The Hypotheses**\n",
    "\n",
    "> We can try to answer this question by a test of hypotheses. The chance model that we will test says that there is no underlying difference in the popuations; the distributions in the samples are different just due to chance.\n",
    "\n",
    "> Formally, this is the null hypothesis. We are going to have to figure out how to simulate a useful statistic under this hypothesis. But as a start, let's just state the two natural hypotheses.\n",
    "\n",
    "*from https://www.inferentialthinking.com/chapters/12/1/AB_Testing.html*\n",
    "\n",
    "In the example in Data 8, students are asked to consider the birth weight of babies when the mother was a smoker and when the mother was a nonsmoker. The two hypotheses and the test statistic were:\n",
    "\n",
    "> **Null hypothesis**: In the population, the distribution of birth weights of babies is the same for mothers who don't smoke as for mothers who do. The difference in the sample is due to chance.\n",
    "\n",
    "> **Alternative hypothesis**: In the population, the babies of the mothers who smoke have a lower birth weight, on average, than the babies of the non-smokers.\n",
    "\n",
    "> **Test Statistic**\n",
    "\n",
    "> The alternative hypothesis compares the average birth weights of the two groups and says that the average for the mothers who smoke is smaller. Therefore it is reasonable for us to use the difference between the two group means as our statistic.\n",
    "\n",
    "> We will do the subtraction in the order \"average weight of the smoking group  − average weight of the non-smoking group\". Small values (that is, large negative values) of this statistic will favor the alternative hypothesis.\n",
    "\n",
    "We can use this same approach in considering the sodium content of the lava samples. where the **Null hypothesis** is that sodium content is the same for rocks of different compositions and in difference in the sample is the result of chance. The **Alternative hypothesis** is that the sodium content of felsic lavas is, on average, higher.\n",
    "\n",
    "## Testing the null hypothesis that there is no difference in the sodium content of **mafic and felsic** lavas\n",
    "\n",
    "To start with, let's consider the difference between mafic and felsic lavas."
   ]
  },
  {
   "cell_type": "code",
   "execution_count": null,
   "metadata": {},
   "outputs": [],
   "source": [
    "volcanic_felsic_mafic = volcanic_data[...]\n",
    "volcanic_felsic_mafic = pd.DataFrame(volcanic_felsic_mafic,columns=['COMPOSITION','SIO2','NA2O'])\n",
    "volcanic_felsic_mafic = volcanic_felsic_mafic.dropna()\n",
    "volcanic_felsic_mafic.tail()"
   ]
  },
  {
   "cell_type": "code",
   "execution_count": null,
   "metadata": {},
   "outputs": [],
   "source": [
    "felsic_NA20_mean = np.mean(volcanic_felsic_mafic[volcanic_felsic_mafic['COMPOSITION']=='FELSIC']['NA2O'])\n",
    "mafic_NA20_mean = np.mean(volcanic_felsic_mafic[volcanic_felsic_mafic['COMPOSITION']=='MAFIC']['NA2O'])\n",
    "\n",
    "felsic_NA20_mean - mafic_NA20_mean"
   ]
  },
  {
   "cell_type": "markdown",
   "metadata": {},
   "source": [
    "Let's define a function that can make this calculation and make a function for median difference too while we are at it:"
   ]
  },
  {
   "cell_type": "code",
   "execution_count": null,
   "metadata": {},
   "outputs": [],
   "source": [
    "def difference_of_means(dataframe,value,category_column,category_values):\n",
    "    '''\n",
    "    Function to calculate the difference of mean from a dataframe.\n",
    "    \n",
    "    Parameters\n",
    "    ----------\n",
    "    dataframe : the pandas dataframe containing the data\n",
    "    value : the column for which the mean will be calculated (a string)\n",
    "    category_column : the column that will be used to categorize the data (a string)\n",
    "    category_values : the values of the category (a list of strings)\n",
    "    '''\n",
    "    mean_1 = np.mean(dataframe[dataframe[category_column]==category_values[0]][value])\n",
    "    mean_2 = np.mean(dataframe[dataframe[category_column]==category_values[1]][value])\n",
    "    return mean_1 - mean_2\n",
    "\n",
    "def difference_of_medians(dataframe,value,category_column,category_values):\n",
    "    '''\n",
    "    Function to calculate the difference of mean from a dataframe.\n",
    "    \n",
    "    Parameters\n",
    "    ----------\n",
    "    dataframe : the pandas dataframe containing the data\n",
    "    value : the column for which the mean will be calculated (a string)\n",
    "    category_column : the column that will be used to categorize the data (a string)\n",
    "    category_values : the values of the category (a list of strings)\n",
    "    '''\n",
    "    median_1 = np.median(dataframe[dataframe[category_column]==category_values[0]][value])\n",
    "    median_2 = np.median(dataframe[dataframe[category_column]==category_values[1]][value])\n",
    "    return median_1 - median_2"
   ]
  },
  {
   "cell_type": "code",
   "execution_count": null,
   "metadata": {},
   "outputs": [],
   "source": [
    "felsic_mafic_mean_diff = difference_of_means(volcanic_felsic_mafic,'NA2O','COMPOSITION',['FELSIC','MAFIC'])\n",
    "felsic_mafic_mean_diff"
   ]
  },
  {
   "cell_type": "code",
   "execution_count": null,
   "metadata": {},
   "outputs": [],
   "source": [
    "felsic_mafic_median_diff = difference_of_medians(volcanic_felsic_mafic,'NA2O','COMPOSITION',['FELSIC','MAFIC'])\n",
    "felsic_mafic_median_diff"
   ]
  },
  {
   "cell_type": "markdown",
   "metadata": {},
   "source": [
    "## Testing the null hypothesis through random permutation\n",
    "\n",
    "The difference of the means suggests that the alternative hypothesis that felsic lavas have more sodium on average is true. How can we test that this is not the result of chance?\n",
    "\n",
    "> **Predicting the Statistic Under the Null Hypothesis**\n",
    "\n",
    "> To see how the statistic should vary under the null hypothesis, we have to figure out how to simulate the statistic under that hypothesis. A clever method based on random permutations does just that\n",
    "\n",
    "If there were no difference between the two distributions in the underlying population, then whether the sodium content is from a mafic or a felsic rock should make no difference to the average. The idea, then, is to shuffle all the labels randomly among the rock samples. This is called random permutation."
   ]
  },
  {
   "cell_type": "code",
   "execution_count": null,
   "metadata": {},
   "outputs": [],
   "source": [
    "volcanic_felsic_mafic['COMPOSITION_Shuffled'] = np.random.permutation(volcanic_felsic_mafic['COMPOSITION'].values)\n",
    "volcanic_felsic_mafic.tail()"
   ]
  },
  {
   "cell_type": "code",
   "execution_count": null,
   "metadata": {},
   "outputs": [],
   "source": [
    "difference_of_means(volcanic_felsic_mafic,'NA2O','COMPOSITION_Shuffled',['FELSIC','MAFIC'])"
   ]
  },
  {
   "cell_type": "markdown",
   "metadata": {},
   "source": [
    "The above difference is the result of one random permutation. We want to do many random permutations to test the hypothesis."
   ]
  },
  {
   "cell_type": "code",
   "execution_count": null,
   "metadata": {},
   "outputs": [],
   "source": [
    "dif_permuations_fel_maf_mean = []\n",
    "dif_permuations_fel_maf_median = []\n",
    "\n",
    "repetitions = 1000\n",
    "\n",
    "for i in np.arange(repetitions):\n",
    "    volcanic_felsic_mafic['COMPOSITION_Shuffled'] = np.random.permutation(volcanic_felsic_mafic['COMPOSITION'].values)\n",
    "    \n",
    "    new_mean_diff = difference_of_means(volcanic_felsic_mafic,'NA2O','COMPOSITION_Shuffled',['FELSIC','MAFIC'])\n",
    "    dif_permuations_fel_maf_mean.append(new_mean_diff) \n",
    "    \n",
    "    new_median_diff = difference_of_medians(volcanic_felsic_mafic,'NA2O','COMPOSITION_Shuffled',['FELSIC','MAFIC'])\n",
    "    dif_permuations_fel_maf_median.append(new_median_diff) "
   ]
  },
  {
   "cell_type": "code",
   "execution_count": null,
   "metadata": {},
   "outputs": [],
   "source": [
    "plt.figure(figsize=(10,4))\n",
    "\n",
    "plt.subplot(1,2,1)\n",
    "plt.hist(dif_permuations_fel_maf_mean,label='permutations')\n",
    "plt.xlabel('Na$_2$O mean difference')\n",
    "\n",
    "plt.subplot(1,2,2)\n",
    "plt.hist(dif_permuations_fel_maf_median,label='permutations')\n",
    "plt.xlabel('Na$_2$O median difference')\n",
    "\n",
    "plt.show()"
   ]
  },
  {
   "cell_type": "markdown",
   "metadata": {},
   "source": [
    "Notice how the distributions are centered around 0. This makes sense, because under the null hypothesis the two groups should have roughly the same average. Therefore the difference between the group averages should be around 0.\n",
    "\n",
    "## Comparing the random permutations to the actual difference"
   ]
  },
  {
   "cell_type": "code",
   "execution_count": null,
   "metadata": {},
   "outputs": [],
   "source": [
    "plt.figure(figsize=(10,4))\n",
    "\n",
    "plt.subplot(1,2,1)\n",
    "plt.hist(dif_permuations_fel_maf_mean,label='permutations')\n",
    "plt.scatter(felsic_mafic_mean_diff,0,color='red',zorder=1000,label='actual felsic-mafic')\n",
    "plt.xlabel('Na$_2$O mean difference')\n",
    "plt.legend()\n",
    "\n",
    "plt.subplot(1,2,2)\n",
    "plt.hist(dif_permuations_fel_maf_median,label='permutations')\n",
    "plt.scatter(felsic_mafic_median_diff,0,color='red',zorder=1000,label='actual felsic-mafic')\n",
    "plt.xlabel('Na$_2$O median difference')\n",
    "plt.legend()\n",
    "plt.show()"
   ]
  },
  {
   "cell_type": "code",
   "execution_count": null,
   "metadata": {},
   "outputs": [],
   "source": [
    "mean_empirical_p = np.count_nonzero(dif_permuations_fel_maf_mean >= felsic_mafic_mean_diff) / repetitions\n",
    "mean_empirical_p"
   ]
  },
  {
   "cell_type": "code",
   "execution_count": null,
   "metadata": {},
   "outputs": [],
   "source": [
    "median_empirical_p = np.count_nonzero(dif_permuations_fel_maf_median >= felsic_mafic_median_diff) / repetitions\n",
    "median_empirical_p"
   ]
  },
  {
   "cell_type": "markdown",
   "metadata": {},
   "source": [
    "The empirical P-values are 0, meaning that none of the 5,000 permuted samples resulted in a difference that was as large as that which is observed in the actual samples. This is only an approximation. The exact chance of getting a difference in that range is not 0, but it is vanishingly small.\n",
    "\n",
    "So it appears to be well-supported that felsic magmas have more Na$_2$O than mafic magmas.\n",
    "\n",
    "## Testing the null hypothesis that there is no difference in the sodium content of **intermediate and felsic** lavas"
   ]
  },
  {
   "cell_type": "code",
   "execution_count": null,
   "metadata": {},
   "outputs": [],
   "source": [
    "volcanic_felsic_int = volcanic_data[(volcanic_data['COMPOSITION']=='FELSIC') | (volcanic_data['COMPOSITION']=='INTERMEDIATE')]\n",
    "volcanic_felsic_int = volcanic_felsic_int[(volcanic_felsic_int['SIO2'] < 64) & (volcanic_felsic_int['SIO2'] > 51)]\n",
    "volcanic_felsic_int = pd.DataFrame(volcanic_felsic_int,columns=['COMPOSITION','SIO2','NA2O'])\n",
    "volcanic_felsic_int = volcanic_felsic_int.dropna()\n",
    "volcanic_felsic_int.tail()"
   ]
  },
  {
   "cell_type": "markdown",
   "metadata": {},
   "source": [
    "**Code for you to write**\n",
    "\n",
    "**Calculate the difference in the median and the difference in the mean between the NA2O of intermediate and felsic lavas. Assign them to variables and print them.**"
   ]
  },
  {
   "cell_type": "code",
   "execution_count": null,
   "metadata": {},
   "outputs": [],
   "source": [
    "felsic_int_mean_diff = #complete the code"
   ]
  },
  {
   "cell_type": "code",
   "execution_count": null,
   "metadata": {},
   "outputs": [],
   "source": [
    "felsic_int_median_diff = #complete the code"
   ]
  },
  {
   "cell_type": "markdown",
   "metadata": {},
   "source": [
    "**Code for you to write**\n",
    "\n",
    "**Shuffle the compositions within the `volcanic_felsic_int` dataframe. Do it 1000 times and make histogrames of the mean and median of these permutations that includes the actual median and mean that you calculated**"
   ]
  },
  {
   "cell_type": "code",
   "execution_count": null,
   "metadata": {},
   "outputs": [],
   "source": [
    "dif_permuations_fel_int_mean = []\n",
    "dif_permuations_fel_int_median = []\n",
    "\n",
    "repetitions = 1000\n",
    "\n",
    "for i in np.arange(repetitions):\n",
    "    #complete the code"
   ]
  },
  {
   "cell_type": "code",
   "execution_count": null,
   "metadata": {},
   "outputs": [],
   "source": [
    "plt.figure(figsize=(10,4))\n",
    "\n",
    "plt.subplot(1,2,1)\n",
    "#complete the code"
   ]
  },
  {
   "cell_type": "markdown",
   "metadata": {},
   "source": [
    "**Calculate the p-value for the median and mean**\n",
    "\n",
    "**Shuffle the compositions within the `volcanic_felsic_int` dataframe. Do it 1000 times and make histogrames of the mean and median of these permutations that includes the actual median and mean that you calculated**"
   ]
  },
  {
   "cell_type": "code",
   "execution_count": null,
   "metadata": {},
   "outputs": [],
   "source": [
    "empirical_p_mean = np.count_nonzero(dif_permuations_fel_int_mean >= felsic_int_mean_diff) / repetitions\n",
    "empirical_p_mean"
   ]
  },
  {
   "cell_type": "code",
   "execution_count": null,
   "metadata": {},
   "outputs": [],
   "source": [
    "empirical_p_median = np.count_nonzero(dif_permuations_fel_int_median >= felsic_int_median_diff) / repetitions\n",
    "empirical_p_median"
   ]
  },
  {
   "cell_type": "markdown",
   "metadata": {},
   "source": [
    "### Turn in the Notebook\n",
    "\n",
    "**Export as HTML and upload to bCourses.**"
   ]
  },
  {
   "cell_type": "code",
   "execution_count": null,
   "metadata": {},
   "outputs": [],
   "source": []
  }
 ],
 "metadata": {
  "kernelspec": {
   "display_name": "Python 3",
   "language": "python",
   "name": "python3"
  },
  "language_info": {
   "codemirror_mode": {
    "name": "ipython",
    "version": 3
   },
   "file_extension": ".py",
   "mimetype": "text/x-python",
   "name": "python",
   "nbconvert_exporter": "python",
   "pygments_lexer": "ipython3",
   "version": "3.8.5"
  }
 },
 "nbformat": 4,
 "nbformat_minor": 4
}
