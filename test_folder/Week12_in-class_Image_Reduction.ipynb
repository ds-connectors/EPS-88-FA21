{
 "cells": [
  {
   "cell_type": "markdown",
   "metadata": {},
   "source": [
    "# Week 12: Telescope Image Reduction\n",
    "This week we will be reducing images of Uranus and Neptune taken by the Keck telescope on Mauna Kea, Hawaii. \n",
    "## Import relevant packages\n",
    "Note: this will not work if you are not running this notebook on your local computer with astroscrappy installed"
   ]
  },
  {
   "cell_type": "code",
   "execution_count": null,
   "metadata": {},
   "outputs": [],
   "source": [
    "from astropy.io import fits\n",
    "import matplotlib.pyplot as plt\n",
    "import numpy as np\n",
    "from scipy.signal import medfilt\n",
    "from scipy.interpolate import RectBivariateSpline\n",
    "import astroscrappy"
   ]
  },
  {
   "cell_type": "markdown",
   "metadata": {},
   "source": [
    "## How do ground based telescopes work?\n",
    "Ground based telescopes are telescopes on Earth's surface (rather than space based telescopes, such as the Hubble Space Telescope which orbits Earth). The primary difference between ground based and space based telescopes is the wavelengths they can observe, due to absorption by Earth's atmosphere:\n",
    "\n",
    "<img src=\"./data/atmosphere.jpg\" width = 700>\n",
    "Image Credit: Rice University"
   ]
  },
  {
   "cell_type": "code",
   "execution_count": 1,
   "metadata": {},
   "outputs": [
    {
     "data": {
      "image/jpeg": "[encoded data removed]",
      "text/html": [
       "\n",
       "        <iframe\n",
       "            width=\"800\"\n",
       "            height=\"500\"\n",
       "            src=\"https://www.youtube.com/embed/EzpGxyuKo_M\"\n",
       "            frameborder=\"0\"\n",
       "            allowfullscreen\n",
       "        ></iframe>\n",
       "        "
      ],
      "text/plain": [
       "<IPython.lib.display.YouTubeVideo at 0x7fd224288210>"
      ]
     },
     "execution_count": 1,
     "metadata": {},
     "output_type": "execute_result"
    }
   ],
   "source": [
    "from IPython.display import YouTubeVideo\n",
    "YouTubeVideo('EzpGxyuKo_M', width=800, height=500)"
   ]
  },
  {
   "cell_type": "markdown",
   "metadata": {},
   "source": [
    "Today we will be reducing images of Uranus taken by Keck Observatory's NIRC2 (near-infrared) instrument in 2 filters - Kp (1.948-2.299µm) and H (1.485-1.781µm). Images taken by ground-based telescopes must be calibrated for atmospheric effects, detector artifacts, and cosmic rays in order to be used for science.\n",
    "\n",
    "Let's start by defining the filepath and variable names."
   ]
  },
  {
   "cell_type": "code",
   "execution_count": null,
   "metadata": {},
   "outputs": [],
   "source": [
    "filt_name = 'h'\n",
    "target_name = 'Uranus'\n",
    "filepath = './data/'\n",
    "\n",
    "skyf = filepath + 'sky_' + filt_name + '.fits'\n",
    "uranusf = filepath + target_name + '_' + filt_name + '.fits'\n",
    "flatf = filepath + 'flat_master_' + filt_name + '.fits'\n",
    "\n",
    "print('Uranus image filepath = ' + uranusf)\n",
    "print('Sky image filepath = ' + skyf)\n",
    "print('Flatfield image filepath = ' + flatf)"
   ]
  },
  {
   "cell_type": "markdown",
   "metadata": {},
   "source": [
    "# All the images which go into one final, reduced image:\n",
    "1. **Target image** (uranusf) : image taken with target in the center of the field of view (in this case, our target is Uranus)\n",
    "\n",
    "\n",
    "2. **Sky image** (skyf) : image taken of open sky (without target or other bright objects) to account for *atmospheric* artifacts\n",
    "\n",
    "\n",
    "3. **Flat-field image** (flatf) : image taken with a known light source before opening the telescope dome, to account for *detector* artifacts"
   ]
  },
  {
   "cell_type": "markdown",
   "metadata": {},
   "source": [
    "## What is a fits file?\n",
    "Fits files are the most commonly used data file format for astronomical observations. They have two components: a **header** which holds all the useful information about the observation, and the **data** which is the image itself.\n",
    "\n",
    "Let's open the Uranus fits file and see what's inside."
   ]
  },
  {
   "cell_type": "code",
   "execution_count": null,
   "metadata": {},
   "outputs": [],
   "source": [
    "uranus = fits.open(uranusf,ignore_warnings=True,ignore_missing_end=True)"
   ]
  },
  {
   "cell_type": "markdown",
   "metadata": {},
   "source": [
    "All fits files have a header, which contains information about the data within the fits file, including the date and time of observation, instrument, filter, and many other technical details that may be useful in analysis of the image."
   ]
  },
  {
   "cell_type": "code",
   "execution_count": null,
   "metadata": {},
   "outputs": [],
   "source": [
    "uranus[0].header"
   ]
  },
  {
   "cell_type": "markdown",
   "metadata": {},
   "source": [
    "Extract image data from fits file using .data and store in a variable called **uranus_data**."
   ]
  },
  {
   "cell_type": "code",
   "execution_count": null,
   "metadata": {},
   "outputs": [],
   "source": [
    "uranus_data = uranus[0].data\n",
    "uranus_data.shape"
   ]
  },
  {
   "cell_type": "markdown",
   "metadata": {},
   "source": [
    "We will also extract image data from the sky fits file and store that in the variable called **sky_data**."
   ]
  },
  {
   "cell_type": "code",
   "execution_count": null,
   "metadata": {},
   "outputs": [],
   "source": [
    "sky = fits.open(skyf,ignore_missing_end=True,ignore_warnings=True)\n",
    "sky_data = sky[0].data"
   ]
  },
  {
   "cell_type": "markdown",
   "metadata": {},
   "source": [
    "# Part 1. Sky Subtraction\n",
    "Let's plot up the Uranus and sky images to see what they look like:"
   ]
  },
  {
   "cell_type": "code",
   "execution_count": null,
   "metadata": {},
   "outputs": [],
   "source": [
    "plt.figure(figsize=(15,10))\n",
    "plt.subplot(121)\n",
    "plt.imshow(uranus_data,origin='lower left',cmap='gnuplot')\n",
    "plt.title('Uranus H Image')\n",
    "plt.colorbar(fraction=0.046, pad=0.04)\n",
    "plt.subplot(122)\n",
    "plt.imshow(sky_data,origin='lower left',cmap='gnuplot')\n",
    "plt.title('Sky H Image')\n",
    "cbar = plt.colorbar(fraction=0.046, pad=0.04)\n",
    "cbar.set_label('I/F')"
   ]
  },
  {
   "cell_type": "markdown",
   "metadata": {},
   "source": [
    "Notice those few extremely bright pixels in both images? NIRC2 observes in the *thermal infrared* (1-5 micron) range, meaning it is essentially recording *heat*. Earth's atmosphere is way warmer than Uranus! In order to account for thermal radiation from Earth's atmosphere, we take one image of our target (Uranus), and one image off-target (open sky) and simply subtract the sky image from the target image. This is called **sky subtraction**, and it is a very commonly used technique in ground-based telescope image processing.\n",
    "\n",
    "<font color=goldenrod>**_Code for you to write_**</font>\n",
    "\n",
    "Let's write a function called ```subtract_sky()``` that takes the target image (*uranus_data*) and the sky image (*sky_data*) as inputs and returns an image where the sky image is subtracted from the target image:"
   ]
  },
  {
   "cell_type": "code",
   "execution_count": null,
   "metadata": {},
   "outputs": [],
   "source": [
    "def subtract_sky(image,sky):\n",
    "    skysub = ...\n",
    "    return skysub"
   ]
  },
  {
   "cell_type": "code",
   "execution_count": null,
   "metadata": {},
   "outputs": [],
   "source": [
    "uranus_skysub = ..."
   ]
  },
  {
   "cell_type": "code",
   "execution_count": null,
   "metadata": {},
   "outputs": [],
   "source": [
    "plt.figure(figsize=(8,8))\n",
    "plt.imshow(uranus_skysub,origin='lower left',cmap='gnuplot')\n",
    "plt.title('After Sky Subtraction')\n",
    "cbar = plt.colorbar(fraction=0.046, pad=0.04)\n",
    "cbar.set_label('I/F')"
   ]
  },
  {
   "cell_type": "markdown",
   "metadata": {},
   "source": [
    "Now Uranus is the brightest feature in our image!\n",
    "\n",
    "But what is that grid pattern that's showing up on the brightest part of the planet? Is that real or is that another artifact?"
   ]
  },
  {
   "cell_type": "markdown",
   "metadata": {},
   "source": [
    "# Part 2. Flat-fielding\n",
    "Let's take a look at the flat-field image:"
   ]
  },
  {
   "cell_type": "code",
   "execution_count": null,
   "metadata": {},
   "outputs": [],
   "source": [
    "flat_fits = fits.open(flatf,ignore_warnings=True,ignore_missing_end=True)\n",
    "flat = flat_fits[0].data\n",
    "\n",
    "plt.figure(figsize=(15,10))\n",
    "plt.subplot(121)\n",
    "plt.imshow(flat,origin='lower left',cmap='gnuplot')\n",
    "plt.title('Flat-field Image')\n",
    "plt.colorbar(fraction=0.046, pad=0.04)\n",
    "plt.subplot(122)\n",
    "plt.imshow(uranus_skysub,origin='lower left',cmap='gnuplot')\n",
    "plt.title('uranus_skysub')\n",
    "cbar = plt.colorbar(fraction=0.046, pad=0.04)\n",
    "cbar.set_label('I/F')"
   ]
  },
  {
   "cell_type": "markdown",
   "metadata": {},
   "source": [
    "A 'flat-field' is an image taken while the telescope dome is closed (no outside light) while a known, constant light source is shined on the detector. The light source has an intensity = 1, so in a perfect world the flat-field image would be an image where all pixels = 1. Clearly, this is not the case. \n",
    "\n",
    "In order to account for issues with the detector, we start by scaling all pixels by the flat image in order to account for discrepancies in the detector.\n",
    "\n",
    "<font color=goldenrod>**_Code for you to write_**</font>\n",
    "\n",
    "Let's write a function called ```apply_flat()``` that takes the target image (*uranus_skysub*) and the flat-field image (*flat*) as inputs and returns an image where the target image is divided by the flat-field image:"
   ]
  },
  {
   "cell_type": "code",
   "execution_count": null,
   "metadata": {},
   "outputs": [],
   "source": [
    "def apply_flat(image,flat):\n",
    "    apply_flat = ...\n",
    "    return apply_flat"
   ]
  },
  {
   "cell_type": "code",
   "execution_count": null,
   "metadata": {},
   "outputs": [],
   "source": [
    "uranus_apply_flat = ..."
   ]
  },
  {
   "cell_type": "code",
   "execution_count": null,
   "metadata": {},
   "outputs": [],
   "source": [
    "plt.figure(figsize=(8,8))\n",
    "plt.imshow(uranus_apply_flat,origin='lower left',cmap='gnuplot')\n",
    "cbar = plt.colorbar(fraction=0.046, pad=0.04)\n",
    "cbar.set_label('I/F')\n",
    "plt.title('After Applying Flat Image')"
   ]
  },
  {
   "cell_type": "markdown",
   "metadata": {},
   "source": [
    "The image looks worse, but don't panic! Since we are dividing by the flat image where good pixels = 1 and bad pixels ~ 0, bad pixels will be greatly exaggerated."
   ]
  },
  {
   "cell_type": "markdown",
   "metadata": {},
   "source": [
    "# Part 3. Removing bad pixels\n",
    "We can identify and remove bad pixels by creating a \"bad pixel map\", which will note the location of all pixels whose value are exceptionally different from those of their neighbors."
   ]
  },
  {
   "cell_type": "code",
   "execution_count": null,
   "metadata": {},
   "outputs": [],
   "source": [
    "def make_badpx_map(flat, outfile, tol, blocksize):\n",
    "        badpx_map = np.ones(flat.shape)\n",
    "        for i in range(0,flat.shape[0]+blocksize,blocksize):\n",
    "            for j in range(0,flat.shape[1]+blocksize,blocksize):\n",
    "                flatblock = flat[i:i+blocksize,j:j+blocksize]\n",
    "                mapblock = badpx_map[i:i+blocksize,j:j+blocksize]\n",
    "                med = np.median(flatblock)\n",
    "                \n",
    "                #if not within tolerance, set to NaN\n",
    "                mapblock[np.where(flatblock/med > 1 + tol)] = 0\n",
    "                mapblock[np.where(flatblock/med < 1 - tol)] = 0\n",
    "                badpx_map[i:i+blocksize,j:j+blocksize] = mapblock\n",
    "        fits.writeto(outfile,data=badpx_map, overwrite=True)"
   ]
  },
  {
   "cell_type": "markdown",
   "metadata": {},
   "source": [
    "This function creates a \"bad pixel map\" based on the flat field image, where good pixels = 1 and bad pixels = 0. \n",
    "\n",
    "Let's create a bad pixel map for our flat image, which will be saved as 'badpx_h.fits'"
   ]
  },
  {
   "cell_type": "code",
   "execution_count": null,
   "metadata": {},
   "outputs": [],
   "source": [
    "make_badpx_map(flat=flat,outfile=filepath+'/badpx_'+filt_name+'.fits',tol = 0.045, blocksize = 7)"
   ]
  },
  {
   "cell_type": "code",
   "execution_count": null,
   "metadata": {},
   "outputs": [],
   "source": [
    "badpx_fits = fits.open(filepath+'badpx_' + filt_name + '.fits',ignore_missing_end=True)\n",
    "badpx_map = badpx_fits[0].data\n",
    "\n",
    "plt.figure(figsize=(15,10))\n",
    "plt.subplot(121)\n",
    "plt.imshow(badpx_map,origin='lower left',cmap='gnuplot')\n",
    "plt.colorbar(fraction=0.046, pad=0.04)\n",
    "plt.title('Bad Pixel Map')\n",
    "plt.subplot(122)\n",
    "plt.imshow(flat,origin='lower left',cmap='gnuplot')\n",
    "plt.title('Flat-field Image')\n",
    "cbar = plt.colorbar(fraction=0.046, pad=0.04)\n",
    "cbar.set_label('I/F')"
   ]
  },
  {
   "cell_type": "markdown",
   "metadata": {},
   "source": [
    "Lots of bad pixels! We can remove them from our image by using a nearest-neighbor smoothing technique."
   ]
  },
  {
   "cell_type": "code",
   "execution_count": null,
   "metadata": {},
   "outputs": [],
   "source": [
    "def remove_bad_pixels(image,badpx_map):\n",
    "    bad_indices = np.where(badpx_map == 0)\n",
    "    smoothed = medfilt(image,kernel_size = 7)\n",
    "    image[bad_indices] = smoothed[bad_indices]\n",
    "    \n",
    "    for i in range(image.shape[0]):\n",
    "        for j in range(image.shape[1]):\n",
    "            if image[i,j] < 0.0:\n",
    "                image[i,j] = 0.0\n",
    "    return image"
   ]
  },
  {
   "cell_type": "markdown",
   "metadata": {},
   "source": [
    "For all pixels in the image where badpx = 0, the image pixel value will be replaced by the median value of the pixels surrounding it."
   ]
  },
  {
   "cell_type": "code",
   "execution_count": null,
   "metadata": {},
   "outputs": [],
   "source": [
    "uranus_rm_bp = remove_bad_pixels(uranus_apply_flat,badpx_map)"
   ]
  },
  {
   "cell_type": "code",
   "execution_count": null,
   "metadata": {},
   "outputs": [],
   "source": [
    "plt.figure(figsize=(8,8))\n",
    "plt.imshow(uranus_rm_bp,origin='lower left',cmap='gnuplot')\n",
    "cbar = plt.colorbar(fraction=0.046, pad=0.04)\n",
    "cbar.set_label('I/F')\n",
    "plt.title('After Removing Bad Pixels')"
   ]
  },
  {
   "cell_type": "markdown",
   "metadata": {},
   "source": [
    "OK, we're getting somewhere! One final step..."
   ]
  },
  {
   "cell_type": "markdown",
   "metadata": {},
   "source": [
    "# Part 4. Cosmic Ray Removal\n",
    "Those few remaining extremely bright pixels are actually real - they are cosmic rays. Cosmic rays are extremely high-energy protons originating from activity on our sun, supernovae explosions, and other high-energy intergalactic events.\n",
    "\n",
    "We'll use a Python package called *astroscrappy*, which identifies and removes cosmic rays quite nicely."
   ]
  },
  {
   "cell_type": "code",
   "execution_count": null,
   "metadata": {},
   "outputs": [],
   "source": [
    "def remove_cosmics(image):\n",
    "    crmask, cleanarr = astroscrappy.detect_cosmics(image, cleantype='medmask')\n",
    "    image = cleanarr\n",
    "    return image"
   ]
  },
  {
   "cell_type": "code",
   "execution_count": null,
   "metadata": {},
   "outputs": [],
   "source": [
    "uranus_h = remove_cosmics(uranus_rm_bp)"
   ]
  },
  {
   "cell_type": "code",
   "execution_count": null,
   "metadata": {},
   "outputs": [],
   "source": [
    "plt.figure(figsize=(8,8))\n",
    "plt.imshow(uranus_h,origin='lower left',cmap='gnuplot')\n",
    "cbar = plt.colorbar(fraction=0.046, pad=0.04)\n",
    "cbar.set_label('I/F')\n",
    "plt.title('Uranus H-Band Final Image')"
   ]
  },
  {
   "cell_type": "markdown",
   "metadata": {},
   "source": [
    ":O Amazing! Let's save this image as a fits file."
   ]
  },
  {
   "cell_type": "code",
   "execution_count": null,
   "metadata": {},
   "outputs": [],
   "source": [
    "fits.writeto(filepath+'/uranus_'+filt_name+'_final.fits',data=uranus_h, overwrite=True)"
   ]
  },
  {
   "cell_type": "markdown",
   "metadata": {},
   "source": [
    "# Reduce second Uranus image with a different filter\n",
    "\n",
    "Great! We reduced an image. Let's reduce another image of Uranus, this time with a different filter (Kp).\n",
    "\n",
    "Load the target, sky, and flat-field image for Kp filter..."
   ]
  },
  {
   "cell_type": "code",
   "execution_count": null,
   "metadata": {},
   "outputs": [],
   "source": [
    "filt_name = 'kp'\n",
    "target_name = 'Uranus'\n",
    "filepath = './data/'\n",
    "\n",
    "skyf = filepath + 'sky_' + filt_name + '.fits'\n",
    "uranusf = filepath + target_name + '_' + filt_name + '.fits'\n",
    "flatf = filepath + 'flat_master_' + filt_name + '.fits'\n",
    "\n",
    "print('Uranus image filepath = ' + uranusf)\n",
    "print('Sky image filepath = ' + skyf)\n",
    "print('Flatfield image filepath = ' + flatf)"
   ]
  },
  {
   "cell_type": "code",
   "execution_count": null,
   "metadata": {},
   "outputs": [],
   "source": [
    "uranus = fits.open(uranusf,ignore_warnings=True,ignore_missing_end=True)\n",
    "uranus_data = uranus[0].data\n",
    "sky = fits.open(skyf,ignore_missing_end=True,ignore_warnings=True)\n",
    "sky_data = sky[0].data\n",
    "flat_fits = fits.open(flatf,ignore_warnings=True,ignore_missing_end=True)\n",
    "flat = flat_fits[0].data"
   ]
  },
  {
   "cell_type": "markdown",
   "metadata": {},
   "source": [
    "<font color=goldenrod>**_Code for you to write_**</font>\n",
    "\n",
    "Since you have already written functions for each of the image reduction techniques, you can call those functions to quickly reduce the next filter."
   ]
  },
  {
   "cell_type": "code",
   "execution_count": null,
   "metadata": {},
   "outputs": [],
   "source": [
    "uranus_skysub = ...\n",
    "uranus_apply_flat = ...\n",
    "\n",
    "make_badpx_map(flat = ... ,outfile=filepath+'/badpx_'+filt_name+'.fits',tol = 0.045, blocksize = 4)\n",
    "\n",
    "badpx_fits = fits.open(filepath+'badpx_' + filt_name + '.fits',ignore_missing_end=True)\n",
    "badpx_map = badpx_fits[0].data\n",
    "\n",
    "uranus_rm_bp = ...\n",
    "uranus_kp = ..."
   ]
  },
  {
   "cell_type": "code",
   "execution_count": null,
   "metadata": {},
   "outputs": [],
   "source": [
    "plt.figure(figsize=(15,10))\n",
    "plt.subplot(121)\n",
    "plt.imshow(uranus_data,origin='lower left',cmap='gnuplot')\n",
    "plt.title('Raw Kp Image')\n",
    "plt.colorbar(fraction=0.046, pad=0.04)\n",
    "plt.subplot(122)\n",
    "plt.imshow(uranus_kp,origin='lower left',cmap='gnuplot')\n",
    "plt.title('Final Reduced Kp Image')\n",
    "cbar = plt.colorbar(fraction=0.046, pad=0.04)\n",
    "cbar.set_label('I/F')"
   ]
  },
  {
   "cell_type": "markdown",
   "metadata": {},
   "source": [
    "Plot the final, reduced images side by side to see how they look."
   ]
  },
  {
   "cell_type": "code",
   "execution_count": null,
   "metadata": {},
   "outputs": [],
   "source": [
    "plt.figure(figsize=(15,10))\n",
    "plt.subplot(121)\n",
    "plt.imshow(uranus_kp,origin='lower left',cmap='gnuplot')\n",
    "plt.title('Final Kp Image (1.948-2.299µm)')\n",
    "plt.colorbar(fraction=0.046, pad=0.04)\n",
    "plt.subplot(122)\n",
    "plt.imshow(uranus_h,origin='lower left',cmap='gnuplot')\n",
    "plt.title('Final H Image (1.485-1.781µm)')\n",
    "cbar = plt.colorbar(fraction=0.046, pad=0.04)\n",
    "cbar.set_label('I/F')"
   ]
  },
  {
   "cell_type": "markdown",
   "metadata": {},
   "source": [
    "# Simple cloud pressure analysis\n",
    "We can use the ratio of the intensity of the Kp/H images to find the pressure of clouds in the atmosphere. Let's look at the one bright cloud that is visible in both images."
   ]
  },
  {
   "cell_type": "code",
   "execution_count": null,
   "metadata": {},
   "outputs": [],
   "source": [
    "import matplotlib.patches as mpatches\n",
    "\n",
    "plt.figure(figsize=(15,10))\n",
    "plt.subplot(121)\n",
    "plt.imshow(uranus_kp,origin='lower left',cmap='gnuplot')\n",
    "ax = plt.gca()\n",
    "rect = mpatches.Rectangle(xy=(550,300),width=50,height=50,linewidth=2,edgecolor='r',facecolor='none')\n",
    "ax.add_patch(rect)\n",
    "plt.title('Final Kp Image (1.948-2.299µm)')\n",
    "plt.colorbar(fraction=0.046, pad=0.04)\n",
    "plt.subplot(122)\n",
    "plt.imshow(uranus_h,origin='lower left',cmap='gnuplot')\n",
    "ax = plt.gca()\n",
    "rect2 = mpatches.Rectangle(xy=(550,300),width=50,height=50,linewidth=2,edgecolor='r',facecolor='none')\n",
    "ax.add_patch(rect2)\n",
    "plt.title('Final H Image (1.485-1.781µm)')\n",
    "cbar = plt.colorbar(fraction=0.046, pad=0.04)\n",
    "cbar.set_label('I/F')"
   ]
  },
  {
   "cell_type": "markdown",
   "metadata": {},
   "source": [
    "We can find the pressure of the cloud using the measured Kp/H ratio. This can be calculated by dividing the intensity of the cloud in Kp minus the background noise of the Kp image over the intensity of the cloud in H minus the background noise of the H image:\n",
    "\n",
    "kp_h_ratio = (cloud_kp - background_kp)/(cloud_h - background_h)\n",
    "\n",
    "To calculate this ratio, we need to determine the intensity of the cloud in both images, as well as the background noise in each image. Let's start by looking at the cloud in both images:"
   ]
  },
  {
   "cell_type": "code",
   "execution_count": null,
   "metadata": {},
   "outputs": [],
   "source": [
    "plt.figure(figsize=(10,10))\n",
    "plt.subplot(121)\n",
    "plt.imshow(uranus_kp[...],origin='lower left',cmap='gnuplot')\n",
    "plt.title('Zoomed-in cloud (Kp)')\n",
    "plt.subplot(122)\n",
    "plt.imshow(uranus_h[...],origin='lower left',cmap='gnuplot')\n",
    "plt.title('Zoomed-in cloud (H)')"
   ]
  },
  {
   "cell_type": "markdown",
   "metadata": {},
   "source": [
    "<font color=goldenrod>**_Code for you to write_**</font>\n",
    "\n",
    "Let's assume that the cloud is represented by the *maximum* value in the cloud area in each image, and the background noise is the *median* value of an area in the background sky. Write some code to define variables ```cloud_kp``` and ```cloud_h``` as the maximum pixel value in our selected cloud area, and ```background_kp``` and ```background_h``` as the median pixel values in our selected background area."
   ]
  },
  {
   "cell_type": "code",
   "execution_count": null,
   "metadata": {},
   "outputs": [],
   "source": [
    "cloud_kp = ...\n",
    "cloud_h = ...\n",
    "print('Cloud intensity in Kp filter = ' + str(cloud_kp))\n",
    "print('Cloud intensity in H filter = ' + str(cloud_h))"
   ]
  },
  {
   "cell_type": "markdown",
   "metadata": {},
   "source": [
    "Now let's find a good section of the background sky to use as a measurement of the background noise."
   ]
  },
  {
   "cell_type": "code",
   "execution_count": null,
   "metadata": {},
   "outputs": [],
   "source": [
    "plt.figure(figsize=(10,10))\n",
    "plt.subplot(121)\n",
    "plt.imshow(uranus_kp[...],origin='lower left',cmap='gnuplot')\n",
    "plt.title('Background sky noise (Kp)')\n",
    "plt.subplot(122)\n",
    "plt.imshow(uranus_h[...],origin='lower left',cmap='gnuplot')\n",
    "plt.title('Background sky noise (H)')"
   ]
  },
  {
   "cell_type": "code",
   "execution_count": null,
   "metadata": {},
   "outputs": [],
   "source": [
    "background_kp = ...\n",
    "background_h = ...\n",
    "print('Background noise in Kp filter = ' + str(background_kp))\n",
    "print('Background noise in H filter = ' + str(background_h))"
   ]
  },
  {
   "cell_type": "markdown",
   "metadata": {},
   "source": [
    "Calculate *kp_h_ratio* using the equation above."
   ]
  },
  {
   "cell_type": "code",
   "execution_count": null,
   "metadata": {},
   "outputs": [],
   "source": [
    "kp_h_ratio = ...\n",
    "print ('Kp/H ratio = ' + str(kp_h_ratio))"
   ]
  },
  {
   "cell_type": "markdown",
   "metadata": {},
   "source": [
    "Use the following graph to estimate pressure of the bright cloud, given your calculated Kp/H ratio. Pressure is in bars.\n",
    "\n",
    "<img src=\"data/pressure_graph.png\" width = 500 align = 'left'>"
   ]
  }
 ],
 "metadata": {
  "kernelspec": {
   "display_name": "Python 3",
   "language": "python",
   "name": "python3"
  },
  "language_info": {
   "codemirror_mode": {
    "name": "ipython",
    "version": 3
   },
   "file_extension": ".py",
   "mimetype": "text/x-python",
   "name": "python",
   "nbconvert_exporter": "python",
   "pygments_lexer": "ipython3",
   "version": "3.7.6"
  }
 },
 "nbformat": 4,
 "nbformat_minor": 2
}
